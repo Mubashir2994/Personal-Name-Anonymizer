{
  "nbformat": 4,
  "nbformat_minor": 0,
  "metadata": {
    "colab": {
      "provenance": []
    },
    "kernelspec": {
      "name": "python3",
      "display_name": "Python 3"
    },
    "language_info": {
      "name": "python"
    }
  },
  "cells": [
    {
      "cell_type": "code",
      "execution_count": null,
      "metadata": {
        "id": "dfe7hL8ZNUPl"
      },
      "outputs": [],
      "source": []
    },
    {
      "cell_type": "code",
      "source": [
        "# Loading the input document that needs to be anonymized\n",
        "with open(\"input.txt\", \"r\") as text_file:\n",
        "  doc=text_file.read()\n",
        "print(doc)"
      ],
      "metadata": {
        "colab": {
          "base_uri": "https://localhost:8080/"
        },
        "id": "IMHL9LIGQLNB",
        "outputId": "04099811-0e90-4df1-f66f-9c33833f2e74"
      },
      "execution_count": null,
      "outputs": [
        {
          "output_type": "stream",
          "name": "stdout",
          "text": [
            "Hello everyone my name is Mubashir Ali.\n",
            "and I am a master student in Germany.\n",
            "I work at Foxbase GmbH!\n",
            "Tim Cook is my friend and likes to cook noodles\n",
            "Alfred Winters want to travel to Australia in Winters. \n"
          ]
        }
      ]
    },
    {
      "cell_type": "code",
      "source": [
        "import re\n",
        "\n",
        "#Function to match input text with the names in the database and anonymize them if they match\n",
        "def rule_based_anonymizer(database):\n",
        "\n",
        "  result=[]\n",
        "  count=0\n",
        "\n",
        "  lines=doc.split(\"\\n\")\n",
        "  # print(lines)\n",
        "\n",
        "  names=database\n",
        "  # print(type (database))\n",
        "  # print(type (names))\n",
        "  for token in lines:\n",
        "\n",
        "    words = re.findall(r\"[^,.:;@\\n?\\s+*\\r ']+|[,. :;]\", token)\n",
        "    # print(words)\n",
        "    length=len(words)\n",
        "    for i in range(length):\n",
        "\n",
        "      if words[i].lower() in names:\n",
        "        words[i]='*'*len(words[i])\n",
        "        count=count+1\n",
        "    if token== lines[len(lines)-1]:\n",
        "      result.append((\"\".join(words)))\n",
        "    else:\n",
        "      result.append((\"\".join(words))[:-1])\n",
        "\n",
        "  res=\"\\n\".join(result)\n",
        "  print(res)\n",
        "  return str(res)"
      ],
      "metadata": {
        "id": "LB6LgLxtNb9P"
      },
      "execution_count": null,
      "outputs": []
    },
    {
      "cell_type": "code",
      "source": [
        "database=['alfred','winters','max','muller','mubashir','ali','arthur','robert','alice','simon','tim','russo','mario','marino']\n",
        "final_res=rule_based_anonymizer(database)"
      ],
      "metadata": {
        "id": "e53MjCG8Q3ra",
        "colab": {
          "base_uri": "https://localhost:8080/"
        },
        "outputId": "cf2501be-ffd7-427f-fa07-d5029659c448"
      },
      "execution_count": null,
      "outputs": [
        {
          "output_type": "stream",
          "name": "stdout",
          "text": [
            "Hello everyone my name is ******** ***\n",
            "and I am a master student in Germany\n",
            "I work at Foxbase GmbH\n",
            "*** Cook is my friend and likes to cook noodle\n",
            "****** ******* want to travel to Australia in *******. \n"
          ]
        }
      ]
    },
    {
      "cell_type": "code",
      "source": [
        "# Writing the ouput to a text file \n",
        "with open(\"rule_based_output.txt\", \"w\") as output:\n",
        "  output.write((final_res))"
      ],
      "metadata": {
        "id": "HbGJjVojROTE"
      },
      "execution_count": null,
      "outputs": []
    },
    {
      "cell_type": "code",
      "source": [],
      "metadata": {
        "id": "LUMvFmXHT7u4"
      },
      "execution_count": null,
      "outputs": []
    }
  ]
}