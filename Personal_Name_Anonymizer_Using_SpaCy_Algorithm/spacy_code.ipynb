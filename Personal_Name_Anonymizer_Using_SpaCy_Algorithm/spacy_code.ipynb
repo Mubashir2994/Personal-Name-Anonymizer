{
  "nbformat": 4,
  "nbformat_minor": 0,
  "metadata": {
    "colab": {
      "provenance": []
    },
    "kernelspec": {
      "name": "python3",
      "display_name": "Python 3"
    },
    "language_info": {
      "name": "python"
    }
  },
  "cells": [
    {
      "cell_type": "code",
      "execution_count": null,
      "metadata": {
        "id": "lGhs_GK22qoI"
      },
      "outputs": [],
      "source": []
    },
    {
      "cell_type": "markdown",
      "source": [
        "##**About the Project**\n",
        "\n",
        "To build a simple anonymizer based on NLP which can hide personal information like the first names and the last names from the provided text. \n",
        "\n",
        "### **SpaCy**\n",
        "Spacy is an opensource and a very powerful NLP library. \n",
        "\n",
        "#### **SpaCy Features**\n",
        "\n",
        "*   Tokenization\n",
        "*   Part-of-speech (POS) Tagging\n",
        "\n",
        "*   Dependency Parsing\n",
        "*   Named Entity Recognition (NER)\n",
        "\n",
        "and much more\n",
        "https://spacy.io/\n",
        "\n",
        "\n"
      ],
      "metadata": {
        "id": "OLa5xPSo_V0C"
      }
    },
    {
      "cell_type": "code",
      "source": [
        "!pip install -U pip setuptools wheel"
      ],
      "metadata": {
        "colab": {
          "base_uri": "https://localhost:8080/",
          "height": 522
        },
        "id": "RK8lTaHM28C1",
        "outputId": "c239060f-cad7-496b-9cc3-2f270871201c"
      },
      "execution_count": null,
      "outputs": [
        {
          "output_type": "stream",
          "name": "stdout",
          "text": [
            "Looking in indexes: https://pypi.org/simple, https://us-python.pkg.dev/colab-wheels/public/simple/\n",
            "Requirement already satisfied: pip in /usr/local/lib/python3.7/dist-packages (21.1.3)\n",
            "Collecting pip\n",
            "  Downloading pip-22.2.2-py3-none-any.whl (2.0 MB)\n",
            "\u001b[K     |████████████████████████████████| 2.0 MB 9.6 MB/s \n",
            "\u001b[?25hRequirement already satisfied: setuptools in /usr/local/lib/python3.7/dist-packages (57.4.0)\n",
            "Collecting setuptools\n",
            "  Downloading setuptools-65.4.0-py3-none-any.whl (1.2 MB)\n",
            "\u001b[K     |████████████████████████████████| 1.2 MB 71.3 MB/s \n",
            "\u001b[?25hRequirement already satisfied: wheel in /usr/local/lib/python3.7/dist-packages (0.37.1)\n",
            "Installing collected packages: setuptools, pip\n",
            "  Attempting uninstall: setuptools\n",
            "    Found existing installation: setuptools 57.4.0\n",
            "    Uninstalling setuptools-57.4.0:\n",
            "      Successfully uninstalled setuptools-57.4.0\n",
            "  Attempting uninstall: pip\n",
            "    Found existing installation: pip 21.1.3\n",
            "    Uninstalling pip-21.1.3:\n",
            "      Successfully uninstalled pip-21.1.3\n",
            "\u001b[31mERROR: pip's dependency resolver does not currently take into account all the packages that are installed. This behaviour is the source of the following dependency conflicts.\n",
            "ipython 7.9.0 requires jedi>=0.10, which is not installed.\n",
            "numba 0.56.2 requires setuptools<60, but you have setuptools 65.4.0 which is incompatible.\u001b[0m\n",
            "Successfully installed pip-22.2.2 setuptools-65.4.0\n"
          ]
        },
        {
          "output_type": "display_data",
          "data": {
            "application/vnd.colab-display-data+json": {
              "pip_warning": {
                "packages": [
                  "pkg_resources"
                ]
              }
            }
          },
          "metadata": {}
        }
      ]
    },
    {
      "cell_type": "code",
      "source": [
        "!pip install -U spacy"
      ],
      "metadata": {
        "colab": {
          "base_uri": "https://localhost:8080/"
        },
        "id": "Z15a3YSV2-E5",
        "outputId": "c8928094-82d0-4050-b5ba-373e211a9c93"
      },
      "execution_count": null,
      "outputs": [
        {
          "output_type": "stream",
          "name": "stdout",
          "text": [
            "Looking in indexes: https://pypi.org/simple, https://us-python.pkg.dev/colab-wheels/public/simple/\n",
            "Requirement already satisfied: spacy in /usr/local/lib/python3.7/dist-packages (3.4.1)\n",
            "Requirement already satisfied: wasabi<1.1.0,>=0.9.1 in /usr/local/lib/python3.7/dist-packages (from spacy) (0.10.1)\n",
            "Requirement already satisfied: spacy-legacy<3.1.0,>=3.0.9 in /usr/local/lib/python3.7/dist-packages (from spacy) (3.0.10)\n",
            "Requirement already satisfied: setuptools in /usr/local/lib/python3.7/dist-packages (from spacy) (65.4.0)\n",
            "Requirement already satisfied: jinja2 in /usr/local/lib/python3.7/dist-packages (from spacy) (2.11.3)\n",
            "Requirement already satisfied: pathy>=0.3.5 in /usr/local/lib/python3.7/dist-packages (from spacy) (0.6.2)\n",
            "Requirement already satisfied: srsly<3.0.0,>=2.4.3 in /usr/local/lib/python3.7/dist-packages (from spacy) (2.4.4)\n",
            "Requirement already satisfied: pydantic!=1.8,!=1.8.1,<1.10.0,>=1.7.4 in /usr/local/lib/python3.7/dist-packages (from spacy) (1.9.2)\n",
            "Requirement already satisfied: catalogue<2.1.0,>=2.0.6 in /usr/local/lib/python3.7/dist-packages (from spacy) (2.0.8)\n",
            "Requirement already satisfied: requests<3.0.0,>=2.13.0 in /usr/local/lib/python3.7/dist-packages (from spacy) (2.23.0)\n",
            "Requirement already satisfied: langcodes<4.0.0,>=3.2.0 in /usr/local/lib/python3.7/dist-packages (from spacy) (3.3.0)\n",
            "Requirement already satisfied: preshed<3.1.0,>=3.0.2 in /usr/local/lib/python3.7/dist-packages (from spacy) (3.0.7)\n",
            "Requirement already satisfied: cymem<2.1.0,>=2.0.2 in /usr/local/lib/python3.7/dist-packages (from spacy) (2.0.6)\n",
            "Requirement already satisfied: typer<0.5.0,>=0.3.0 in /usr/local/lib/python3.7/dist-packages (from spacy) (0.4.2)\n",
            "Requirement already satisfied: tqdm<5.0.0,>=4.38.0 in /usr/local/lib/python3.7/dist-packages (from spacy) (4.64.1)\n",
            "Requirement already satisfied: numpy>=1.15.0 in /usr/local/lib/python3.7/dist-packages (from spacy) (1.21.6)\n",
            "Requirement already satisfied: packaging>=20.0 in /usr/local/lib/python3.7/dist-packages (from spacy) (21.3)\n",
            "Requirement already satisfied: spacy-loggers<2.0.0,>=1.0.0 in /usr/local/lib/python3.7/dist-packages (from spacy) (1.0.3)\n",
            "Requirement already satisfied: murmurhash<1.1.0,>=0.28.0 in /usr/local/lib/python3.7/dist-packages (from spacy) (1.0.8)\n",
            "Requirement already satisfied: thinc<8.2.0,>=8.1.0 in /usr/local/lib/python3.7/dist-packages (from spacy) (8.1.0)\n",
            "Requirement already satisfied: typing-extensions<4.2.0,>=3.7.4 in /usr/local/lib/python3.7/dist-packages (from spacy) (4.1.1)\n",
            "Requirement already satisfied: zipp>=0.5 in /usr/local/lib/python3.7/dist-packages (from catalogue<2.1.0,>=2.0.6->spacy) (3.8.1)\n",
            "Requirement already satisfied: pyparsing!=3.0.5,>=2.0.2 in /usr/local/lib/python3.7/dist-packages (from packaging>=20.0->spacy) (3.0.9)\n",
            "Requirement already satisfied: smart-open<6.0.0,>=5.2.1 in /usr/local/lib/python3.7/dist-packages (from pathy>=0.3.5->spacy) (5.2.1)\n",
            "Requirement already satisfied: chardet<4,>=3.0.2 in /usr/local/lib/python3.7/dist-packages (from requests<3.0.0,>=2.13.0->spacy) (3.0.4)\n",
            "Requirement already satisfied: certifi>=2017.4.17 in /usr/local/lib/python3.7/dist-packages (from requests<3.0.0,>=2.13.0->spacy) (2022.6.15)\n",
            "Requirement already satisfied: idna<3,>=2.5 in /usr/local/lib/python3.7/dist-packages (from requests<3.0.0,>=2.13.0->spacy) (2.10)\n",
            "Requirement already satisfied: urllib3!=1.25.0,!=1.25.1,<1.26,>=1.21.1 in /usr/local/lib/python3.7/dist-packages (from requests<3.0.0,>=2.13.0->spacy) (1.24.3)\n",
            "Requirement already satisfied: blis<0.8.0,>=0.7.8 in /usr/local/lib/python3.7/dist-packages (from thinc<8.2.0,>=8.1.0->spacy) (0.7.8)\n",
            "Requirement already satisfied: click<9.0.0,>=7.1.1 in /usr/local/lib/python3.7/dist-packages (from typer<0.5.0,>=0.3.0->spacy) (7.1.2)\n",
            "Requirement already satisfied: MarkupSafe>=0.23 in /usr/local/lib/python3.7/dist-packages (from jinja2->spacy) (2.0.1)\n",
            "\u001b[33mWARNING: Running pip as the 'root' user can result in broken permissions and conflicting behaviour with the system package manager. It is recommended to use a virtual environment instead: https://pip.pypa.io/warnings/venv\u001b[0m\u001b[33m\n",
            "\u001b[0m"
          ]
        }
      ]
    },
    {
      "cell_type": "code",
      "source": [
        "!python -m spacy download en_core_web_sm"
      ],
      "metadata": {
        "colab": {
          "base_uri": "https://localhost:8080/"
        },
        "id": "fz8sqp5y3HnY",
        "outputId": "cf8efcab-e1f1-42ec-f0e6-f0adb5ea3a71"
      },
      "execution_count": null,
      "outputs": [
        {
          "output_type": "stream",
          "name": "stdout",
          "text": [
            "2022-09-25 19:08:21.360187: E tensorflow/stream_executor/cuda/cuda_driver.cc:271] failed call to cuInit: CUDA_ERROR_NO_DEVICE: no CUDA-capable device is detected\n",
            "Looking in indexes: https://pypi.org/simple, https://us-python.pkg.dev/colab-wheels/public/simple/\n",
            "Collecting en-core-web-sm==3.4.0\n",
            "  Downloading https://github.com/explosion/spacy-models/releases/download/en_core_web_sm-3.4.0/en_core_web_sm-3.4.0-py3-none-any.whl (12.8 MB)\n",
            "\u001b[2K     \u001b[90m━━━━━━━━━━━━━━━━━━━━━━━━━━━━━━━━━━━━━━━━\u001b[0m \u001b[32m12.8/12.8 MB\u001b[0m \u001b[31m89.3 MB/s\u001b[0m eta \u001b[36m0:00:00\u001b[0m\n",
            "\u001b[?25hRequirement already satisfied: spacy<3.5.0,>=3.4.0 in /usr/local/lib/python3.7/dist-packages (from en-core-web-sm==3.4.0) (3.4.1)\n",
            "Requirement already satisfied: pathy>=0.3.5 in /usr/local/lib/python3.7/dist-packages (from spacy<3.5.0,>=3.4.0->en-core-web-sm==3.4.0) (0.6.2)\n",
            "Requirement already satisfied: numpy>=1.15.0 in /usr/local/lib/python3.7/dist-packages (from spacy<3.5.0,>=3.4.0->en-core-web-sm==3.4.0) (1.21.6)\n",
            "Requirement already satisfied: srsly<3.0.0,>=2.4.3 in /usr/local/lib/python3.7/dist-packages (from spacy<3.5.0,>=3.4.0->en-core-web-sm==3.4.0) (2.4.4)\n",
            "Requirement already satisfied: requests<3.0.0,>=2.13.0 in /usr/local/lib/python3.7/dist-packages (from spacy<3.5.0,>=3.4.0->en-core-web-sm==3.4.0) (2.23.0)\n",
            "Requirement already satisfied: tqdm<5.0.0,>=4.38.0 in /usr/local/lib/python3.7/dist-packages (from spacy<3.5.0,>=3.4.0->en-core-web-sm==3.4.0) (4.64.1)\n",
            "Requirement already satisfied: packaging>=20.0 in /usr/local/lib/python3.7/dist-packages (from spacy<3.5.0,>=3.4.0->en-core-web-sm==3.4.0) (21.3)\n",
            "Requirement already satisfied: pydantic!=1.8,!=1.8.1,<1.10.0,>=1.7.4 in /usr/local/lib/python3.7/dist-packages (from spacy<3.5.0,>=3.4.0->en-core-web-sm==3.4.0) (1.9.2)\n",
            "Requirement already satisfied: jinja2 in /usr/local/lib/python3.7/dist-packages (from spacy<3.5.0,>=3.4.0->en-core-web-sm==3.4.0) (2.11.3)\n",
            "Requirement already satisfied: murmurhash<1.1.0,>=0.28.0 in /usr/local/lib/python3.7/dist-packages (from spacy<3.5.0,>=3.4.0->en-core-web-sm==3.4.0) (1.0.8)\n",
            "Requirement already satisfied: langcodes<4.0.0,>=3.2.0 in /usr/local/lib/python3.7/dist-packages (from spacy<3.5.0,>=3.4.0->en-core-web-sm==3.4.0) (3.3.0)\n",
            "Requirement already satisfied: typer<0.5.0,>=0.3.0 in /usr/local/lib/python3.7/dist-packages (from spacy<3.5.0,>=3.4.0->en-core-web-sm==3.4.0) (0.4.2)\n",
            "Requirement already satisfied: catalogue<2.1.0,>=2.0.6 in /usr/local/lib/python3.7/dist-packages (from spacy<3.5.0,>=3.4.0->en-core-web-sm==3.4.0) (2.0.8)\n",
            "Requirement already satisfied: cymem<2.1.0,>=2.0.2 in /usr/local/lib/python3.7/dist-packages (from spacy<3.5.0,>=3.4.0->en-core-web-sm==3.4.0) (2.0.6)\n",
            "Requirement already satisfied: thinc<8.2.0,>=8.1.0 in /usr/local/lib/python3.7/dist-packages (from spacy<3.5.0,>=3.4.0->en-core-web-sm==3.4.0) (8.1.0)\n",
            "Requirement already satisfied: spacy-legacy<3.1.0,>=3.0.9 in /usr/local/lib/python3.7/dist-packages (from spacy<3.5.0,>=3.4.0->en-core-web-sm==3.4.0) (3.0.10)\n",
            "Requirement already satisfied: setuptools in /usr/local/lib/python3.7/dist-packages (from spacy<3.5.0,>=3.4.0->en-core-web-sm==3.4.0) (65.4.0)\n",
            "Requirement already satisfied: typing-extensions<4.2.0,>=3.7.4 in /usr/local/lib/python3.7/dist-packages (from spacy<3.5.0,>=3.4.0->en-core-web-sm==3.4.0) (4.1.1)\n",
            "Requirement already satisfied: wasabi<1.1.0,>=0.9.1 in /usr/local/lib/python3.7/dist-packages (from spacy<3.5.0,>=3.4.0->en-core-web-sm==3.4.0) (0.10.1)\n",
            "Requirement already satisfied: preshed<3.1.0,>=3.0.2 in /usr/local/lib/python3.7/dist-packages (from spacy<3.5.0,>=3.4.0->en-core-web-sm==3.4.0) (3.0.7)\n",
            "Requirement already satisfied: spacy-loggers<2.0.0,>=1.0.0 in /usr/local/lib/python3.7/dist-packages (from spacy<3.5.0,>=3.4.0->en-core-web-sm==3.4.0) (1.0.3)\n",
            "Requirement already satisfied: zipp>=0.5 in /usr/local/lib/python3.7/dist-packages (from catalogue<2.1.0,>=2.0.6->spacy<3.5.0,>=3.4.0->en-core-web-sm==3.4.0) (3.8.1)\n",
            "Requirement already satisfied: pyparsing!=3.0.5,>=2.0.2 in /usr/local/lib/python3.7/dist-packages (from packaging>=20.0->spacy<3.5.0,>=3.4.0->en-core-web-sm==3.4.0) (3.0.9)\n",
            "Requirement already satisfied: smart-open<6.0.0,>=5.2.1 in /usr/local/lib/python3.7/dist-packages (from pathy>=0.3.5->spacy<3.5.0,>=3.4.0->en-core-web-sm==3.4.0) (5.2.1)\n",
            "Requirement already satisfied: idna<3,>=2.5 in /usr/local/lib/python3.7/dist-packages (from requests<3.0.0,>=2.13.0->spacy<3.5.0,>=3.4.0->en-core-web-sm==3.4.0) (2.10)\n",
            "Requirement already satisfied: certifi>=2017.4.17 in /usr/local/lib/python3.7/dist-packages (from requests<3.0.0,>=2.13.0->spacy<3.5.0,>=3.4.0->en-core-web-sm==3.4.0) (2022.6.15)\n",
            "Requirement already satisfied: urllib3!=1.25.0,!=1.25.1,<1.26,>=1.21.1 in /usr/local/lib/python3.7/dist-packages (from requests<3.0.0,>=2.13.0->spacy<3.5.0,>=3.4.0->en-core-web-sm==3.4.0) (1.24.3)\n",
            "Requirement already satisfied: chardet<4,>=3.0.2 in /usr/local/lib/python3.7/dist-packages (from requests<3.0.0,>=2.13.0->spacy<3.5.0,>=3.4.0->en-core-web-sm==3.4.0) (3.0.4)\n",
            "Requirement already satisfied: blis<0.8.0,>=0.7.8 in /usr/local/lib/python3.7/dist-packages (from thinc<8.2.0,>=8.1.0->spacy<3.5.0,>=3.4.0->en-core-web-sm==3.4.0) (0.7.8)\n",
            "Requirement already satisfied: click<9.0.0,>=7.1.1 in /usr/local/lib/python3.7/dist-packages (from typer<0.5.0,>=0.3.0->spacy<3.5.0,>=3.4.0->en-core-web-sm==3.4.0) (7.1.2)\n",
            "Requirement already satisfied: MarkupSafe>=0.23 in /usr/local/lib/python3.7/dist-packages (from jinja2->spacy<3.5.0,>=3.4.0->en-core-web-sm==3.4.0) (2.0.1)\n",
            "\u001b[33mWARNING: Running pip as the 'root' user can result in broken permissions and conflicting behaviour with the system package manager. It is recommended to use a virtual environment instead: https://pip.pypa.io/warnings/venv\u001b[0m\u001b[33m\n",
            "\u001b[0m\u001b[38;5;2m✔ Download and installation successful\u001b[0m\n",
            "You can now load the package via spacy.load('en_core_web_sm')\n"
          ]
        }
      ]
    },
    {
      "cell_type": "code",
      "source": [
        "import spacy\n",
        "nlp = spacy.load(\"en_core_web_sm\")\n",
        "from spacy import displacy"
      ],
      "metadata": {
        "id": "vqIm3XQd3Obs"
      },
      "execution_count": null,
      "outputs": []
    },
    {
      "cell_type": "code",
      "source": [
        "with open(\"input.txt\", \"r\") as text_file:\n",
        "  doc=text_file.read()\n",
        "  print(doc)"
      ],
      "metadata": {
        "colab": {
          "base_uri": "https://localhost:8080/"
        },
        "id": "YxN_fS9iu8gz",
        "outputId": "b397c0e6-247b-4c53-951f-b7ae2227ec15"
      },
      "execution_count": null,
      "outputs": [
        {
          "output_type": "stream",
          "name": "stdout",
          "text": [
            "Hello everyone my name is Mubashir Ali.\n",
            "and I am a master student in Germany.\n",
            "I work at Foxbase GmbH!\n",
            "Tim Cook is my friend and likes to cook noodles\n",
            "Alfred Winters want to travel to Australia in Winters. \n"
          ]
        }
      ]
    },
    {
      "cell_type": "code",
      "source": [
        "from IPython.core.display import display, HTML\n",
        "\n",
        "doc_nlp=nlp(doc)\n",
        "\n",
        "html_ent = displacy.render(doc_nlp, style=\"ent\")\n",
        "display(HTML(html_ent))\n",
        "  #print(doc[0])\n",
        "\n",
        "\n",
        "# for token in doc:\n",
        "#     #print(ent.text, ent.start_char, ent.end_char, ent.label_)\n",
        "#     print(token.text,token.tag_ ,token.ent_type_)\n",
        "\n",
        "\n",
        "\n",
        "#     if token.ent_type_==\"PERSON\":\n",
        "#       tokens.append((\"*\"*len(token.text)))\n",
        "#       count=count+1\n",
        "#     else:\n",
        "#       tokens.append(\" \"+token.text+\" \")\n",
        "# print(tokens)\n",
        "# print(count)\n",
        "    #   doc.\n"
      ],
      "metadata": {
        "colab": {
          "base_uri": "https://localhost:8080/",
          "height": 192
        },
        "id": "sQ6crUndYZjn",
        "outputId": "3bfc7fc1-69b3-4fcd-e216-46563fcaa19b"
      },
      "execution_count": null,
      "outputs": [
        {
          "output_type": "display_data",
          "data": {
            "text/plain": [
              "<IPython.core.display.HTML object>"
            ],
            "text/html": [
              "<div class=\"entities\" style=\"line-height: 2.5; direction: ltr\">Hello everyone my name is \n",
              "<mark class=\"entity\" style=\"background: #aa9cfc; padding: 0.45em 0.6em; margin: 0 0.25em; line-height: 1; border-radius: 0.35em;\">\n",
              "    Mubashir Ali\n",
              "    <span style=\"font-size: 0.8em; font-weight: bold; line-height: 1; border-radius: 0.35em; vertical-align: middle; margin-left: 0.5rem\">PERSON</span>\n",
              "</mark>\n",
              ".</br>and I am a master student in \n",
              "<mark class=\"entity\" style=\"background: #feca74; padding: 0.45em 0.6em; margin: 0 0.25em; line-height: 1; border-radius: 0.35em;\">\n",
              "    Germany\n",
              "    <span style=\"font-size: 0.8em; font-weight: bold; line-height: 1; border-radius: 0.35em; vertical-align: middle; margin-left: 0.5rem\">GPE</span>\n",
              "</mark>\n",
              ".</br>I work at \n",
              "<mark class=\"entity\" style=\"background: #7aecec; padding: 0.45em 0.6em; margin: 0 0.25em; line-height: 1; border-radius: 0.35em;\">\n",
              "    Foxbase GmbH\n",
              "    <span style=\"font-size: 0.8em; font-weight: bold; line-height: 1; border-radius: 0.35em; vertical-align: middle; margin-left: 0.5rem\">ORG</span>\n",
              "</mark>\n",
              "!</br>\n",
              "<mark class=\"entity\" style=\"background: #aa9cfc; padding: 0.45em 0.6em; margin: 0 0.25em; line-height: 1; border-radius: 0.35em;\">\n",
              "    Tim Cook\n",
              "    <span style=\"font-size: 0.8em; font-weight: bold; line-height: 1; border-radius: 0.35em; vertical-align: middle; margin-left: 0.5rem\">PERSON</span>\n",
              "</mark>\n",
              " is my friend and likes to cook noodles</br>\n",
              "<mark class=\"entity\" style=\"background: #aa9cfc; padding: 0.45em 0.6em; margin: 0 0.25em; line-height: 1; border-radius: 0.35em;\">\n",
              "    Alfred Winters\n",
              "    <span style=\"font-size: 0.8em; font-weight: bold; line-height: 1; border-radius: 0.35em; vertical-align: middle; margin-left: 0.5rem\">PERSON</span>\n",
              "</mark>\n",
              " want to travel to \n",
              "<mark class=\"entity\" style=\"background: #feca74; padding: 0.45em 0.6em; margin: 0 0.25em; line-height: 1; border-radius: 0.35em;\">\n",
              "    Australia\n",
              "    <span style=\"font-size: 0.8em; font-weight: bold; line-height: 1; border-radius: 0.35em; vertical-align: middle; margin-left: 0.5rem\">GPE</span>\n",
              "</mark>\n",
              " in \n",
              "<mark class=\"entity\" style=\"background: #feca74; padding: 0.45em 0.6em; margin: 0 0.25em; line-height: 1; border-radius: 0.35em;\">\n",
              "    Winters\n",
              "    <span style=\"font-size: 0.8em; font-weight: bold; line-height: 1; border-radius: 0.35em; vertical-align: middle; margin-left: 0.5rem\">GPE</span>\n",
              "</mark>\n",
              ". </div>"
            ]
          },
          "metadata": {}
        }
      ]
    },
    {
      "cell_type": "code",
      "source": [
        "html_dep = displacy.render(doc_nlp, style=\"dep\")\n",
        "display(HTML(html_dep))"
      ],
      "metadata": {
        "colab": {
          "base_uri": "https://localhost:8080/",
          "height": 616
        },
        "id": "Ae3y9FrdvU_P",
        "outputId": "e3cb70d4-45e7-466d-dd2b-b6d7af66937c"
      },
      "execution_count": null,
      "outputs": [
        {
          "output_type": "display_data",
          "data": {
            "text/plain": [
              "<IPython.core.display.HTML object>"
            ],
            "text/html": [
              "<svg xmlns=\"http://www.w3.org/2000/svg\" xmlns:xlink=\"http://www.w3.org/1999/xlink\" xml:lang=\"en\" id=\"b4dff2dd3d0e49aba02c7afe627a37a0-0\" class=\"displacy\" width=\"7575\" height=\"574.5\" direction=\"ltr\" style=\"max-width: none; height: 574.5px; color: #000000; background: #ffffff; font-family: Arial; direction: ltr\">\n",
              "<text class=\"displacy-token\" fill=\"currentColor\" text-anchor=\"middle\" y=\"484.5\">\n",
              "    <tspan class=\"displacy-word\" fill=\"currentColor\" x=\"50\">Hello</tspan>\n",
              "    <tspan class=\"displacy-tag\" dy=\"2em\" fill=\"currentColor\" x=\"50\">INTJ</tspan>\n",
              "</text>\n",
              "\n",
              "<text class=\"displacy-token\" fill=\"currentColor\" text-anchor=\"middle\" y=\"484.5\">\n",
              "    <tspan class=\"displacy-word\" fill=\"currentColor\" x=\"225\">everyone</tspan>\n",
              "    <tspan class=\"displacy-tag\" dy=\"2em\" fill=\"currentColor\" x=\"225\">PRON</tspan>\n",
              "</text>\n",
              "\n",
              "<text class=\"displacy-token\" fill=\"currentColor\" text-anchor=\"middle\" y=\"484.5\">\n",
              "    <tspan class=\"displacy-word\" fill=\"currentColor\" x=\"400\">my</tspan>\n",
              "    <tspan class=\"displacy-tag\" dy=\"2em\" fill=\"currentColor\" x=\"400\">PRON</tspan>\n",
              "</text>\n",
              "\n",
              "<text class=\"displacy-token\" fill=\"currentColor\" text-anchor=\"middle\" y=\"484.5\">\n",
              "    <tspan class=\"displacy-word\" fill=\"currentColor\" x=\"575\">name</tspan>\n",
              "    <tspan class=\"displacy-tag\" dy=\"2em\" fill=\"currentColor\" x=\"575\">NOUN</tspan>\n",
              "</text>\n",
              "\n",
              "<text class=\"displacy-token\" fill=\"currentColor\" text-anchor=\"middle\" y=\"484.5\">\n",
              "    <tspan class=\"displacy-word\" fill=\"currentColor\" x=\"750\">is</tspan>\n",
              "    <tspan class=\"displacy-tag\" dy=\"2em\" fill=\"currentColor\" x=\"750\">AUX</tspan>\n",
              "</text>\n",
              "\n",
              "<text class=\"displacy-token\" fill=\"currentColor\" text-anchor=\"middle\" y=\"484.5\">\n",
              "    <tspan class=\"displacy-word\" fill=\"currentColor\" x=\"925\">Mubashir</tspan>\n",
              "    <tspan class=\"displacy-tag\" dy=\"2em\" fill=\"currentColor\" x=\"925\">PROPN</tspan>\n",
              "</text>\n",
              "\n",
              "<text class=\"displacy-token\" fill=\"currentColor\" text-anchor=\"middle\" y=\"484.5\">\n",
              "    <tspan class=\"displacy-word\" fill=\"currentColor\" x=\"1100\">Ali.</tspan>\n",
              "    <tspan class=\"displacy-tag\" dy=\"2em\" fill=\"currentColor\" x=\"1100\">PROPN</tspan>\n",
              "</text>\n",
              "\n",
              "<text class=\"displacy-token\" fill=\"currentColor\" text-anchor=\"middle\" y=\"484.5\">\n",
              "    <tspan class=\"displacy-word\" fill=\"currentColor\" x=\"1275\">\n",
              "</tspan>\n",
              "    <tspan class=\"displacy-tag\" dy=\"2em\" fill=\"currentColor\" x=\"1275\">SPACE</tspan>\n",
              "</text>\n",
              "\n",
              "<text class=\"displacy-token\" fill=\"currentColor\" text-anchor=\"middle\" y=\"484.5\">\n",
              "    <tspan class=\"displacy-word\" fill=\"currentColor\" x=\"1450\">and</tspan>\n",
              "    <tspan class=\"displacy-tag\" dy=\"2em\" fill=\"currentColor\" x=\"1450\">CCONJ</tspan>\n",
              "</text>\n",
              "\n",
              "<text class=\"displacy-token\" fill=\"currentColor\" text-anchor=\"middle\" y=\"484.5\">\n",
              "    <tspan class=\"displacy-word\" fill=\"currentColor\" x=\"1625\">I</tspan>\n",
              "    <tspan class=\"displacy-tag\" dy=\"2em\" fill=\"currentColor\" x=\"1625\">PRON</tspan>\n",
              "</text>\n",
              "\n",
              "<text class=\"displacy-token\" fill=\"currentColor\" text-anchor=\"middle\" y=\"484.5\">\n",
              "    <tspan class=\"displacy-word\" fill=\"currentColor\" x=\"1800\">am</tspan>\n",
              "    <tspan class=\"displacy-tag\" dy=\"2em\" fill=\"currentColor\" x=\"1800\">AUX</tspan>\n",
              "</text>\n",
              "\n",
              "<text class=\"displacy-token\" fill=\"currentColor\" text-anchor=\"middle\" y=\"484.5\">\n",
              "    <tspan class=\"displacy-word\" fill=\"currentColor\" x=\"1975\">a</tspan>\n",
              "    <tspan class=\"displacy-tag\" dy=\"2em\" fill=\"currentColor\" x=\"1975\">DET</tspan>\n",
              "</text>\n",
              "\n",
              "<text class=\"displacy-token\" fill=\"currentColor\" text-anchor=\"middle\" y=\"484.5\">\n",
              "    <tspan class=\"displacy-word\" fill=\"currentColor\" x=\"2150\">master</tspan>\n",
              "    <tspan class=\"displacy-tag\" dy=\"2em\" fill=\"currentColor\" x=\"2150\">NOUN</tspan>\n",
              "</text>\n",
              "\n",
              "<text class=\"displacy-token\" fill=\"currentColor\" text-anchor=\"middle\" y=\"484.5\">\n",
              "    <tspan class=\"displacy-word\" fill=\"currentColor\" x=\"2325\">student</tspan>\n",
              "    <tspan class=\"displacy-tag\" dy=\"2em\" fill=\"currentColor\" x=\"2325\">NOUN</tspan>\n",
              "</text>\n",
              "\n",
              "<text class=\"displacy-token\" fill=\"currentColor\" text-anchor=\"middle\" y=\"484.5\">\n",
              "    <tspan class=\"displacy-word\" fill=\"currentColor\" x=\"2500\">in</tspan>\n",
              "    <tspan class=\"displacy-tag\" dy=\"2em\" fill=\"currentColor\" x=\"2500\">ADP</tspan>\n",
              "</text>\n",
              "\n",
              "<text class=\"displacy-token\" fill=\"currentColor\" text-anchor=\"middle\" y=\"484.5\">\n",
              "    <tspan class=\"displacy-word\" fill=\"currentColor\" x=\"2675\">Germany.</tspan>\n",
              "    <tspan class=\"displacy-tag\" dy=\"2em\" fill=\"currentColor\" x=\"2675\">PUNCT</tspan>\n",
              "</text>\n",
              "\n",
              "<text class=\"displacy-token\" fill=\"currentColor\" text-anchor=\"middle\" y=\"484.5\">\n",
              "    <tspan class=\"displacy-word\" fill=\"currentColor\" x=\"2850\">\n",
              "</tspan>\n",
              "    <tspan class=\"displacy-tag\" dy=\"2em\" fill=\"currentColor\" x=\"2850\">SPACE</tspan>\n",
              "</text>\n",
              "\n",
              "<text class=\"displacy-token\" fill=\"currentColor\" text-anchor=\"middle\" y=\"484.5\">\n",
              "    <tspan class=\"displacy-word\" fill=\"currentColor\" x=\"3025\">I</tspan>\n",
              "    <tspan class=\"displacy-tag\" dy=\"2em\" fill=\"currentColor\" x=\"3025\">PRON</tspan>\n",
              "</text>\n",
              "\n",
              "<text class=\"displacy-token\" fill=\"currentColor\" text-anchor=\"middle\" y=\"484.5\">\n",
              "    <tspan class=\"displacy-word\" fill=\"currentColor\" x=\"3200\">work</tspan>\n",
              "    <tspan class=\"displacy-tag\" dy=\"2em\" fill=\"currentColor\" x=\"3200\">VERB</tspan>\n",
              "</text>\n",
              "\n",
              "<text class=\"displacy-token\" fill=\"currentColor\" text-anchor=\"middle\" y=\"484.5\">\n",
              "    <tspan class=\"displacy-word\" fill=\"currentColor\" x=\"3375\">at</tspan>\n",
              "    <tspan class=\"displacy-tag\" dy=\"2em\" fill=\"currentColor\" x=\"3375\">ADP</tspan>\n",
              "</text>\n",
              "\n",
              "<text class=\"displacy-token\" fill=\"currentColor\" text-anchor=\"middle\" y=\"484.5\">\n",
              "    <tspan class=\"displacy-word\" fill=\"currentColor\" x=\"3550\">Foxbase</tspan>\n",
              "    <tspan class=\"displacy-tag\" dy=\"2em\" fill=\"currentColor\" x=\"3550\">PROPN</tspan>\n",
              "</text>\n",
              "\n",
              "<text class=\"displacy-token\" fill=\"currentColor\" text-anchor=\"middle\" y=\"484.5\">\n",
              "    <tspan class=\"displacy-word\" fill=\"currentColor\" x=\"3725\">GmbH!</tspan>\n",
              "    <tspan class=\"displacy-tag\" dy=\"2em\" fill=\"currentColor\" x=\"3725\">PUNCT</tspan>\n",
              "</text>\n",
              "\n",
              "<text class=\"displacy-token\" fill=\"currentColor\" text-anchor=\"middle\" y=\"484.5\">\n",
              "    <tspan class=\"displacy-word\" fill=\"currentColor\" x=\"3900\">\n",
              "</tspan>\n",
              "    <tspan class=\"displacy-tag\" dy=\"2em\" fill=\"currentColor\" x=\"3900\">SPACE</tspan>\n",
              "</text>\n",
              "\n",
              "<text class=\"displacy-token\" fill=\"currentColor\" text-anchor=\"middle\" y=\"484.5\">\n",
              "    <tspan class=\"displacy-word\" fill=\"currentColor\" x=\"4075\">Tim</tspan>\n",
              "    <tspan class=\"displacy-tag\" dy=\"2em\" fill=\"currentColor\" x=\"4075\">PROPN</tspan>\n",
              "</text>\n",
              "\n",
              "<text class=\"displacy-token\" fill=\"currentColor\" text-anchor=\"middle\" y=\"484.5\">\n",
              "    <tspan class=\"displacy-word\" fill=\"currentColor\" x=\"4250\">Cook</tspan>\n",
              "    <tspan class=\"displacy-tag\" dy=\"2em\" fill=\"currentColor\" x=\"4250\">PROPN</tspan>\n",
              "</text>\n",
              "\n",
              "<text class=\"displacy-token\" fill=\"currentColor\" text-anchor=\"middle\" y=\"484.5\">\n",
              "    <tspan class=\"displacy-word\" fill=\"currentColor\" x=\"4425\">is</tspan>\n",
              "    <tspan class=\"displacy-tag\" dy=\"2em\" fill=\"currentColor\" x=\"4425\">AUX</tspan>\n",
              "</text>\n",
              "\n",
              "<text class=\"displacy-token\" fill=\"currentColor\" text-anchor=\"middle\" y=\"484.5\">\n",
              "    <tspan class=\"displacy-word\" fill=\"currentColor\" x=\"4600\">my</tspan>\n",
              "    <tspan class=\"displacy-tag\" dy=\"2em\" fill=\"currentColor\" x=\"4600\">PRON</tspan>\n",
              "</text>\n",
              "\n",
              "<text class=\"displacy-token\" fill=\"currentColor\" text-anchor=\"middle\" y=\"484.5\">\n",
              "    <tspan class=\"displacy-word\" fill=\"currentColor\" x=\"4775\">friend</tspan>\n",
              "    <tspan class=\"displacy-tag\" dy=\"2em\" fill=\"currentColor\" x=\"4775\">NOUN</tspan>\n",
              "</text>\n",
              "\n",
              "<text class=\"displacy-token\" fill=\"currentColor\" text-anchor=\"middle\" y=\"484.5\">\n",
              "    <tspan class=\"displacy-word\" fill=\"currentColor\" x=\"4950\">and</tspan>\n",
              "    <tspan class=\"displacy-tag\" dy=\"2em\" fill=\"currentColor\" x=\"4950\">CCONJ</tspan>\n",
              "</text>\n",
              "\n",
              "<text class=\"displacy-token\" fill=\"currentColor\" text-anchor=\"middle\" y=\"484.5\">\n",
              "    <tspan class=\"displacy-word\" fill=\"currentColor\" x=\"5125\">likes</tspan>\n",
              "    <tspan class=\"displacy-tag\" dy=\"2em\" fill=\"currentColor\" x=\"5125\">VERB</tspan>\n",
              "</text>\n",
              "\n",
              "<text class=\"displacy-token\" fill=\"currentColor\" text-anchor=\"middle\" y=\"484.5\">\n",
              "    <tspan class=\"displacy-word\" fill=\"currentColor\" x=\"5300\">to</tspan>\n",
              "    <tspan class=\"displacy-tag\" dy=\"2em\" fill=\"currentColor\" x=\"5300\">PART</tspan>\n",
              "</text>\n",
              "\n",
              "<text class=\"displacy-token\" fill=\"currentColor\" text-anchor=\"middle\" y=\"484.5\">\n",
              "    <tspan class=\"displacy-word\" fill=\"currentColor\" x=\"5475\">cook</tspan>\n",
              "    <tspan class=\"displacy-tag\" dy=\"2em\" fill=\"currentColor\" x=\"5475\">VERB</tspan>\n",
              "</text>\n",
              "\n",
              "<text class=\"displacy-token\" fill=\"currentColor\" text-anchor=\"middle\" y=\"484.5\">\n",
              "    <tspan class=\"displacy-word\" fill=\"currentColor\" x=\"5650\">noodles</tspan>\n",
              "    <tspan class=\"displacy-tag\" dy=\"2em\" fill=\"currentColor\" x=\"5650\">NOUN</tspan>\n",
              "</text>\n",
              "\n",
              "<text class=\"displacy-token\" fill=\"currentColor\" text-anchor=\"middle\" y=\"484.5\">\n",
              "    <tspan class=\"displacy-word\" fill=\"currentColor\" x=\"5825\">\n",
              "</tspan>\n",
              "    <tspan class=\"displacy-tag\" dy=\"2em\" fill=\"currentColor\" x=\"5825\">SPACE</tspan>\n",
              "</text>\n",
              "\n",
              "<text class=\"displacy-token\" fill=\"currentColor\" text-anchor=\"middle\" y=\"484.5\">\n",
              "    <tspan class=\"displacy-word\" fill=\"currentColor\" x=\"6000\">Alfred</tspan>\n",
              "    <tspan class=\"displacy-tag\" dy=\"2em\" fill=\"currentColor\" x=\"6000\">PROPN</tspan>\n",
              "</text>\n",
              "\n",
              "<text class=\"displacy-token\" fill=\"currentColor\" text-anchor=\"middle\" y=\"484.5\">\n",
              "    <tspan class=\"displacy-word\" fill=\"currentColor\" x=\"6175\">Winters</tspan>\n",
              "    <tspan class=\"displacy-tag\" dy=\"2em\" fill=\"currentColor\" x=\"6175\">PROPN</tspan>\n",
              "</text>\n",
              "\n",
              "<text class=\"displacy-token\" fill=\"currentColor\" text-anchor=\"middle\" y=\"484.5\">\n",
              "    <tspan class=\"displacy-word\" fill=\"currentColor\" x=\"6350\">want</tspan>\n",
              "    <tspan class=\"displacy-tag\" dy=\"2em\" fill=\"currentColor\" x=\"6350\">VERB</tspan>\n",
              "</text>\n",
              "\n",
              "<text class=\"displacy-token\" fill=\"currentColor\" text-anchor=\"middle\" y=\"484.5\">\n",
              "    <tspan class=\"displacy-word\" fill=\"currentColor\" x=\"6525\">to</tspan>\n",
              "    <tspan class=\"displacy-tag\" dy=\"2em\" fill=\"currentColor\" x=\"6525\">PART</tspan>\n",
              "</text>\n",
              "\n",
              "<text class=\"displacy-token\" fill=\"currentColor\" text-anchor=\"middle\" y=\"484.5\">\n",
              "    <tspan class=\"displacy-word\" fill=\"currentColor\" x=\"6700\">travel</tspan>\n",
              "    <tspan class=\"displacy-tag\" dy=\"2em\" fill=\"currentColor\" x=\"6700\">VERB</tspan>\n",
              "</text>\n",
              "\n",
              "<text class=\"displacy-token\" fill=\"currentColor\" text-anchor=\"middle\" y=\"484.5\">\n",
              "    <tspan class=\"displacy-word\" fill=\"currentColor\" x=\"6875\">to</tspan>\n",
              "    <tspan class=\"displacy-tag\" dy=\"2em\" fill=\"currentColor\" x=\"6875\">ADP</tspan>\n",
              "</text>\n",
              "\n",
              "<text class=\"displacy-token\" fill=\"currentColor\" text-anchor=\"middle\" y=\"484.5\">\n",
              "    <tspan class=\"displacy-word\" fill=\"currentColor\" x=\"7050\">Australia</tspan>\n",
              "    <tspan class=\"displacy-tag\" dy=\"2em\" fill=\"currentColor\" x=\"7050\">PROPN</tspan>\n",
              "</text>\n",
              "\n",
              "<text class=\"displacy-token\" fill=\"currentColor\" text-anchor=\"middle\" y=\"484.5\">\n",
              "    <tspan class=\"displacy-word\" fill=\"currentColor\" x=\"7225\">in</tspan>\n",
              "    <tspan class=\"displacy-tag\" dy=\"2em\" fill=\"currentColor\" x=\"7225\">ADP</tspan>\n",
              "</text>\n",
              "\n",
              "<text class=\"displacy-token\" fill=\"currentColor\" text-anchor=\"middle\" y=\"484.5\">\n",
              "    <tspan class=\"displacy-word\" fill=\"currentColor\" x=\"7400\">Winters.</tspan>\n",
              "    <tspan class=\"displacy-tag\" dy=\"2em\" fill=\"currentColor\" x=\"7400\">PROPN</tspan>\n",
              "</text>\n",
              "\n",
              "<g class=\"displacy-arrow\">\n",
              "    <path class=\"displacy-arc\" id=\"arrow-b4dff2dd3d0e49aba02c7afe627a37a0-0-0\" stroke-width=\"2px\" d=\"M70,439.5 C70,89.5 745.0,89.5 745.0,439.5\" fill=\"none\" stroke=\"currentColor\"/>\n",
              "    <text dy=\"1.25em\" style=\"font-size: 0.8em; letter-spacing: 1px\">\n",
              "        <textPath xlink:href=\"#arrow-b4dff2dd3d0e49aba02c7afe627a37a0-0-0\" class=\"displacy-label\" startOffset=\"50%\" side=\"left\" fill=\"currentColor\" text-anchor=\"middle\">intj</textPath>\n",
              "    </text>\n",
              "    <path class=\"displacy-arrowhead\" d=\"M70,441.5 L62,429.5 78,429.5\" fill=\"currentColor\"/>\n",
              "</g>\n",
              "\n",
              "<g class=\"displacy-arrow\">\n",
              "    <path class=\"displacy-arc\" id=\"arrow-b4dff2dd3d0e49aba02c7afe627a37a0-0-1\" stroke-width=\"2px\" d=\"M245,439.5 C245,177.0 740.0,177.0 740.0,439.5\" fill=\"none\" stroke=\"currentColor\"/>\n",
              "    <text dy=\"1.25em\" style=\"font-size: 0.8em; letter-spacing: 1px\">\n",
              "        <textPath xlink:href=\"#arrow-b4dff2dd3d0e49aba02c7afe627a37a0-0-1\" class=\"displacy-label\" startOffset=\"50%\" side=\"left\" fill=\"currentColor\" text-anchor=\"middle\">nsubj</textPath>\n",
              "    </text>\n",
              "    <path class=\"displacy-arrowhead\" d=\"M245,441.5 L237,429.5 253,429.5\" fill=\"currentColor\"/>\n",
              "</g>\n",
              "\n",
              "<g class=\"displacy-arrow\">\n",
              "    <path class=\"displacy-arc\" id=\"arrow-b4dff2dd3d0e49aba02c7afe627a37a0-0-2\" stroke-width=\"2px\" d=\"M420,439.5 C420,352.0 555.0,352.0 555.0,439.5\" fill=\"none\" stroke=\"currentColor\"/>\n",
              "    <text dy=\"1.25em\" style=\"font-size: 0.8em; letter-spacing: 1px\">\n",
              "        <textPath xlink:href=\"#arrow-b4dff2dd3d0e49aba02c7afe627a37a0-0-2\" class=\"displacy-label\" startOffset=\"50%\" side=\"left\" fill=\"currentColor\" text-anchor=\"middle\">poss</textPath>\n",
              "    </text>\n",
              "    <path class=\"displacy-arrowhead\" d=\"M420,441.5 L412,429.5 428,429.5\" fill=\"currentColor\"/>\n",
              "</g>\n",
              "\n",
              "<g class=\"displacy-arrow\">\n",
              "    <path class=\"displacy-arc\" id=\"arrow-b4dff2dd3d0e49aba02c7afe627a37a0-0-3\" stroke-width=\"2px\" d=\"M245,439.5 C245,264.5 560.0,264.5 560.0,439.5\" fill=\"none\" stroke=\"currentColor\"/>\n",
              "    <text dy=\"1.25em\" style=\"font-size: 0.8em; letter-spacing: 1px\">\n",
              "        <textPath xlink:href=\"#arrow-b4dff2dd3d0e49aba02c7afe627a37a0-0-3\" class=\"displacy-label\" startOffset=\"50%\" side=\"left\" fill=\"currentColor\" text-anchor=\"middle\">appos</textPath>\n",
              "    </text>\n",
              "    <path class=\"displacy-arrowhead\" d=\"M560.0,441.5 L568.0,429.5 552.0,429.5\" fill=\"currentColor\"/>\n",
              "</g>\n",
              "\n",
              "<g class=\"displacy-arrow\">\n",
              "    <path class=\"displacy-arc\" id=\"arrow-b4dff2dd3d0e49aba02c7afe627a37a0-0-4\" stroke-width=\"2px\" d=\"M945,439.5 C945,352.0 1080.0,352.0 1080.0,439.5\" fill=\"none\" stroke=\"currentColor\"/>\n",
              "    <text dy=\"1.25em\" style=\"font-size: 0.8em; letter-spacing: 1px\">\n",
              "        <textPath xlink:href=\"#arrow-b4dff2dd3d0e49aba02c7afe627a37a0-0-4\" class=\"displacy-label\" startOffset=\"50%\" side=\"left\" fill=\"currentColor\" text-anchor=\"middle\">compound</textPath>\n",
              "    </text>\n",
              "    <path class=\"displacy-arrowhead\" d=\"M945,441.5 L937,429.5 953,429.5\" fill=\"currentColor\"/>\n",
              "</g>\n",
              "\n",
              "<g class=\"displacy-arrow\">\n",
              "    <path class=\"displacy-arc\" id=\"arrow-b4dff2dd3d0e49aba02c7afe627a37a0-0-5\" stroke-width=\"2px\" d=\"M770,439.5 C770,264.5 1085.0,264.5 1085.0,439.5\" fill=\"none\" stroke=\"currentColor\"/>\n",
              "    <text dy=\"1.25em\" style=\"font-size: 0.8em; letter-spacing: 1px\">\n",
              "        <textPath xlink:href=\"#arrow-b4dff2dd3d0e49aba02c7afe627a37a0-0-5\" class=\"displacy-label\" startOffset=\"50%\" side=\"left\" fill=\"currentColor\" text-anchor=\"middle\">attr</textPath>\n",
              "    </text>\n",
              "    <path class=\"displacy-arrowhead\" d=\"M1085.0,441.5 L1093.0,429.5 1077.0,429.5\" fill=\"currentColor\"/>\n",
              "</g>\n",
              "\n",
              "<g class=\"displacy-arrow\">\n",
              "    <path class=\"displacy-arc\" id=\"arrow-b4dff2dd3d0e49aba02c7afe627a37a0-0-6\" stroke-width=\"2px\" d=\"M1120,439.5 C1120,352.0 1255.0,352.0 1255.0,439.5\" fill=\"none\" stroke=\"currentColor\"/>\n",
              "    <text dy=\"1.25em\" style=\"font-size: 0.8em; letter-spacing: 1px\">\n",
              "        <textPath xlink:href=\"#arrow-b4dff2dd3d0e49aba02c7afe627a37a0-0-6\" class=\"displacy-label\" startOffset=\"50%\" side=\"left\" fill=\"currentColor\" text-anchor=\"middle\">dep</textPath>\n",
              "    </text>\n",
              "    <path class=\"displacy-arrowhead\" d=\"M1255.0,441.5 L1263.0,429.5 1247.0,429.5\" fill=\"currentColor\"/>\n",
              "</g>\n",
              "\n",
              "<g class=\"displacy-arrow\">\n",
              "    <path class=\"displacy-arc\" id=\"arrow-b4dff2dd3d0e49aba02c7afe627a37a0-0-7\" stroke-width=\"2px\" d=\"M1470,439.5 C1470,264.5 1785.0,264.5 1785.0,439.5\" fill=\"none\" stroke=\"currentColor\"/>\n",
              "    <text dy=\"1.25em\" style=\"font-size: 0.8em; letter-spacing: 1px\">\n",
              "        <textPath xlink:href=\"#arrow-b4dff2dd3d0e49aba02c7afe627a37a0-0-7\" class=\"displacy-label\" startOffset=\"50%\" side=\"left\" fill=\"currentColor\" text-anchor=\"middle\">cc</textPath>\n",
              "    </text>\n",
              "    <path class=\"displacy-arrowhead\" d=\"M1470,441.5 L1462,429.5 1478,429.5\" fill=\"currentColor\"/>\n",
              "</g>\n",
              "\n",
              "<g class=\"displacy-arrow\">\n",
              "    <path class=\"displacy-arc\" id=\"arrow-b4dff2dd3d0e49aba02c7afe627a37a0-0-8\" stroke-width=\"2px\" d=\"M1645,439.5 C1645,352.0 1780.0,352.0 1780.0,439.5\" fill=\"none\" stroke=\"currentColor\"/>\n",
              "    <text dy=\"1.25em\" style=\"font-size: 0.8em; letter-spacing: 1px\">\n",
              "        <textPath xlink:href=\"#arrow-b4dff2dd3d0e49aba02c7afe627a37a0-0-8\" class=\"displacy-label\" startOffset=\"50%\" side=\"left\" fill=\"currentColor\" text-anchor=\"middle\">nsubj</textPath>\n",
              "    </text>\n",
              "    <path class=\"displacy-arrowhead\" d=\"M1645,441.5 L1637,429.5 1653,429.5\" fill=\"currentColor\"/>\n",
              "</g>\n",
              "\n",
              "<g class=\"displacy-arrow\">\n",
              "    <path class=\"displacy-arc\" id=\"arrow-b4dff2dd3d0e49aba02c7afe627a37a0-0-9\" stroke-width=\"2px\" d=\"M770,439.5 C770,177.0 1790.0,177.0 1790.0,439.5\" fill=\"none\" stroke=\"currentColor\"/>\n",
              "    <text dy=\"1.25em\" style=\"font-size: 0.8em; letter-spacing: 1px\">\n",
              "        <textPath xlink:href=\"#arrow-b4dff2dd3d0e49aba02c7afe627a37a0-0-9\" class=\"displacy-label\" startOffset=\"50%\" side=\"left\" fill=\"currentColor\" text-anchor=\"middle\">conj</textPath>\n",
              "    </text>\n",
              "    <path class=\"displacy-arrowhead\" d=\"M1790.0,441.5 L1798.0,429.5 1782.0,429.5\" fill=\"currentColor\"/>\n",
              "</g>\n",
              "\n",
              "<g class=\"displacy-arrow\">\n",
              "    <path class=\"displacy-arc\" id=\"arrow-b4dff2dd3d0e49aba02c7afe627a37a0-0-10\" stroke-width=\"2px\" d=\"M1995,439.5 C1995,264.5 2310.0,264.5 2310.0,439.5\" fill=\"none\" stroke=\"currentColor\"/>\n",
              "    <text dy=\"1.25em\" style=\"font-size: 0.8em; letter-spacing: 1px\">\n",
              "        <textPath xlink:href=\"#arrow-b4dff2dd3d0e49aba02c7afe627a37a0-0-10\" class=\"displacy-label\" startOffset=\"50%\" side=\"left\" fill=\"currentColor\" text-anchor=\"middle\">det</textPath>\n",
              "    </text>\n",
              "    <path class=\"displacy-arrowhead\" d=\"M1995,441.5 L1987,429.5 2003,429.5\" fill=\"currentColor\"/>\n",
              "</g>\n",
              "\n",
              "<g class=\"displacy-arrow\">\n",
              "    <path class=\"displacy-arc\" id=\"arrow-b4dff2dd3d0e49aba02c7afe627a37a0-0-11\" stroke-width=\"2px\" d=\"M2170,439.5 C2170,352.0 2305.0,352.0 2305.0,439.5\" fill=\"none\" stroke=\"currentColor\"/>\n",
              "    <text dy=\"1.25em\" style=\"font-size: 0.8em; letter-spacing: 1px\">\n",
              "        <textPath xlink:href=\"#arrow-b4dff2dd3d0e49aba02c7afe627a37a0-0-11\" class=\"displacy-label\" startOffset=\"50%\" side=\"left\" fill=\"currentColor\" text-anchor=\"middle\">compound</textPath>\n",
              "    </text>\n",
              "    <path class=\"displacy-arrowhead\" d=\"M2170,441.5 L2162,429.5 2178,429.5\" fill=\"currentColor\"/>\n",
              "</g>\n",
              "\n",
              "<g class=\"displacy-arrow\">\n",
              "    <path class=\"displacy-arc\" id=\"arrow-b4dff2dd3d0e49aba02c7afe627a37a0-0-12\" stroke-width=\"2px\" d=\"M1820,439.5 C1820,177.0 2315.0,177.0 2315.0,439.5\" fill=\"none\" stroke=\"currentColor\"/>\n",
              "    <text dy=\"1.25em\" style=\"font-size: 0.8em; letter-spacing: 1px\">\n",
              "        <textPath xlink:href=\"#arrow-b4dff2dd3d0e49aba02c7afe627a37a0-0-12\" class=\"displacy-label\" startOffset=\"50%\" side=\"left\" fill=\"currentColor\" text-anchor=\"middle\">attr</textPath>\n",
              "    </text>\n",
              "    <path class=\"displacy-arrowhead\" d=\"M2315.0,441.5 L2323.0,429.5 2307.0,429.5\" fill=\"currentColor\"/>\n",
              "</g>\n",
              "\n",
              "<g class=\"displacy-arrow\">\n",
              "    <path class=\"displacy-arc\" id=\"arrow-b4dff2dd3d0e49aba02c7afe627a37a0-0-13\" stroke-width=\"2px\" d=\"M2345,439.5 C2345,352.0 2480.0,352.0 2480.0,439.5\" fill=\"none\" stroke=\"currentColor\"/>\n",
              "    <text dy=\"1.25em\" style=\"font-size: 0.8em; letter-spacing: 1px\">\n",
              "        <textPath xlink:href=\"#arrow-b4dff2dd3d0e49aba02c7afe627a37a0-0-13\" class=\"displacy-label\" startOffset=\"50%\" side=\"left\" fill=\"currentColor\" text-anchor=\"middle\">prep</textPath>\n",
              "    </text>\n",
              "    <path class=\"displacy-arrowhead\" d=\"M2480.0,441.5 L2488.0,429.5 2472.0,429.5\" fill=\"currentColor\"/>\n",
              "</g>\n",
              "\n",
              "<g class=\"displacy-arrow\">\n",
              "    <path class=\"displacy-arc\" id=\"arrow-b4dff2dd3d0e49aba02c7afe627a37a0-0-14\" stroke-width=\"2px\" d=\"M1820,439.5 C1820,89.5 2670.0,89.5 2670.0,439.5\" fill=\"none\" stroke=\"currentColor\"/>\n",
              "    <text dy=\"1.25em\" style=\"font-size: 0.8em; letter-spacing: 1px\">\n",
              "        <textPath xlink:href=\"#arrow-b4dff2dd3d0e49aba02c7afe627a37a0-0-14\" class=\"displacy-label\" startOffset=\"50%\" side=\"left\" fill=\"currentColor\" text-anchor=\"middle\">punct</textPath>\n",
              "    </text>\n",
              "    <path class=\"displacy-arrowhead\" d=\"M2670.0,441.5 L2678.0,429.5 2662.0,429.5\" fill=\"currentColor\"/>\n",
              "</g>\n",
              "\n",
              "<g class=\"displacy-arrow\">\n",
              "    <path class=\"displacy-arc\" id=\"arrow-b4dff2dd3d0e49aba02c7afe627a37a0-0-15\" stroke-width=\"2px\" d=\"M2695,439.5 C2695,352.0 2830.0,352.0 2830.0,439.5\" fill=\"none\" stroke=\"currentColor\"/>\n",
              "    <text dy=\"1.25em\" style=\"font-size: 0.8em; letter-spacing: 1px\">\n",
              "        <textPath xlink:href=\"#arrow-b4dff2dd3d0e49aba02c7afe627a37a0-0-15\" class=\"displacy-label\" startOffset=\"50%\" side=\"left\" fill=\"currentColor\" text-anchor=\"middle\">dep</textPath>\n",
              "    </text>\n",
              "    <path class=\"displacy-arrowhead\" d=\"M2830.0,441.5 L2838.0,429.5 2822.0,429.5\" fill=\"currentColor\"/>\n",
              "</g>\n",
              "\n",
              "<g class=\"displacy-arrow\">\n",
              "    <path class=\"displacy-arc\" id=\"arrow-b4dff2dd3d0e49aba02c7afe627a37a0-0-16\" stroke-width=\"2px\" d=\"M3045,439.5 C3045,352.0 3180.0,352.0 3180.0,439.5\" fill=\"none\" stroke=\"currentColor\"/>\n",
              "    <text dy=\"1.25em\" style=\"font-size: 0.8em; letter-spacing: 1px\">\n",
              "        <textPath xlink:href=\"#arrow-b4dff2dd3d0e49aba02c7afe627a37a0-0-16\" class=\"displacy-label\" startOffset=\"50%\" side=\"left\" fill=\"currentColor\" text-anchor=\"middle\">nsubj</textPath>\n",
              "    </text>\n",
              "    <path class=\"displacy-arrowhead\" d=\"M3045,441.5 L3037,429.5 3053,429.5\" fill=\"currentColor\"/>\n",
              "</g>\n",
              "\n",
              "<g class=\"displacy-arrow\">\n",
              "    <path class=\"displacy-arc\" id=\"arrow-b4dff2dd3d0e49aba02c7afe627a37a0-0-17\" stroke-width=\"2px\" d=\"M3220,439.5 C3220,352.0 3355.0,352.0 3355.0,439.5\" fill=\"none\" stroke=\"currentColor\"/>\n",
              "    <text dy=\"1.25em\" style=\"font-size: 0.8em; letter-spacing: 1px\">\n",
              "        <textPath xlink:href=\"#arrow-b4dff2dd3d0e49aba02c7afe627a37a0-0-17\" class=\"displacy-label\" startOffset=\"50%\" side=\"left\" fill=\"currentColor\" text-anchor=\"middle\">prep</textPath>\n",
              "    </text>\n",
              "    <path class=\"displacy-arrowhead\" d=\"M3355.0,441.5 L3363.0,429.5 3347.0,429.5\" fill=\"currentColor\"/>\n",
              "</g>\n",
              "\n",
              "<g class=\"displacy-arrow\">\n",
              "    <path class=\"displacy-arc\" id=\"arrow-b4dff2dd3d0e49aba02c7afe627a37a0-0-18\" stroke-width=\"2px\" d=\"M3570,439.5 C3570,352.0 3705.0,352.0 3705.0,439.5\" fill=\"none\" stroke=\"currentColor\"/>\n",
              "    <text dy=\"1.25em\" style=\"font-size: 0.8em; letter-spacing: 1px\">\n",
              "        <textPath xlink:href=\"#arrow-b4dff2dd3d0e49aba02c7afe627a37a0-0-18\" class=\"displacy-label\" startOffset=\"50%\" side=\"left\" fill=\"currentColor\" text-anchor=\"middle\">compound</textPath>\n",
              "    </text>\n",
              "    <path class=\"displacy-arrowhead\" d=\"M3570,441.5 L3562,429.5 3578,429.5\" fill=\"currentColor\"/>\n",
              "</g>\n",
              "\n",
              "<g class=\"displacy-arrow\">\n",
              "    <path class=\"displacy-arc\" id=\"arrow-b4dff2dd3d0e49aba02c7afe627a37a0-0-19\" stroke-width=\"2px\" d=\"M3220,439.5 C3220,264.5 3710.0,264.5 3710.0,439.5\" fill=\"none\" stroke=\"currentColor\"/>\n",
              "    <text dy=\"1.25em\" style=\"font-size: 0.8em; letter-spacing: 1px\">\n",
              "        <textPath xlink:href=\"#arrow-b4dff2dd3d0e49aba02c7afe627a37a0-0-19\" class=\"displacy-label\" startOffset=\"50%\" side=\"left\" fill=\"currentColor\" text-anchor=\"middle\">punct</textPath>\n",
              "    </text>\n",
              "    <path class=\"displacy-arrowhead\" d=\"M3710.0,441.5 L3718.0,429.5 3702.0,429.5\" fill=\"currentColor\"/>\n",
              "</g>\n",
              "\n",
              "<g class=\"displacy-arrow\">\n",
              "    <path class=\"displacy-arc\" id=\"arrow-b4dff2dd3d0e49aba02c7afe627a37a0-0-20\" stroke-width=\"2px\" d=\"M3745,439.5 C3745,352.0 3880.0,352.0 3880.0,439.5\" fill=\"none\" stroke=\"currentColor\"/>\n",
              "    <text dy=\"1.25em\" style=\"font-size: 0.8em; letter-spacing: 1px\">\n",
              "        <textPath xlink:href=\"#arrow-b4dff2dd3d0e49aba02c7afe627a37a0-0-20\" class=\"displacy-label\" startOffset=\"50%\" side=\"left\" fill=\"currentColor\" text-anchor=\"middle\">dep</textPath>\n",
              "    </text>\n",
              "    <path class=\"displacy-arrowhead\" d=\"M3880.0,441.5 L3888.0,429.5 3872.0,429.5\" fill=\"currentColor\"/>\n",
              "</g>\n",
              "\n",
              "<g class=\"displacy-arrow\">\n",
              "    <path class=\"displacy-arc\" id=\"arrow-b4dff2dd3d0e49aba02c7afe627a37a0-0-21\" stroke-width=\"2px\" d=\"M4095,439.5 C4095,352.0 4230.0,352.0 4230.0,439.5\" fill=\"none\" stroke=\"currentColor\"/>\n",
              "    <text dy=\"1.25em\" style=\"font-size: 0.8em; letter-spacing: 1px\">\n",
              "        <textPath xlink:href=\"#arrow-b4dff2dd3d0e49aba02c7afe627a37a0-0-21\" class=\"displacy-label\" startOffset=\"50%\" side=\"left\" fill=\"currentColor\" text-anchor=\"middle\">compound</textPath>\n",
              "    </text>\n",
              "    <path class=\"displacy-arrowhead\" d=\"M4095,441.5 L4087,429.5 4103,429.5\" fill=\"currentColor\"/>\n",
              "</g>\n",
              "\n",
              "<g class=\"displacy-arrow\">\n",
              "    <path class=\"displacy-arc\" id=\"arrow-b4dff2dd3d0e49aba02c7afe627a37a0-0-22\" stroke-width=\"2px\" d=\"M4270,439.5 C4270,352.0 4405.0,352.0 4405.0,439.5\" fill=\"none\" stroke=\"currentColor\"/>\n",
              "    <text dy=\"1.25em\" style=\"font-size: 0.8em; letter-spacing: 1px\">\n",
              "        <textPath xlink:href=\"#arrow-b4dff2dd3d0e49aba02c7afe627a37a0-0-22\" class=\"displacy-label\" startOffset=\"50%\" side=\"left\" fill=\"currentColor\" text-anchor=\"middle\">nsubj</textPath>\n",
              "    </text>\n",
              "    <path class=\"displacy-arrowhead\" d=\"M4270,441.5 L4262,429.5 4278,429.5\" fill=\"currentColor\"/>\n",
              "</g>\n",
              "\n",
              "<g class=\"displacy-arrow\">\n",
              "    <path class=\"displacy-arc\" id=\"arrow-b4dff2dd3d0e49aba02c7afe627a37a0-0-23\" stroke-width=\"2px\" d=\"M4620,439.5 C4620,352.0 4755.0,352.0 4755.0,439.5\" fill=\"none\" stroke=\"currentColor\"/>\n",
              "    <text dy=\"1.25em\" style=\"font-size: 0.8em; letter-spacing: 1px\">\n",
              "        <textPath xlink:href=\"#arrow-b4dff2dd3d0e49aba02c7afe627a37a0-0-23\" class=\"displacy-label\" startOffset=\"50%\" side=\"left\" fill=\"currentColor\" text-anchor=\"middle\">poss</textPath>\n",
              "    </text>\n",
              "    <path class=\"displacy-arrowhead\" d=\"M4620,441.5 L4612,429.5 4628,429.5\" fill=\"currentColor\"/>\n",
              "</g>\n",
              "\n",
              "<g class=\"displacy-arrow\">\n",
              "    <path class=\"displacy-arc\" id=\"arrow-b4dff2dd3d0e49aba02c7afe627a37a0-0-24\" stroke-width=\"2px\" d=\"M4445,439.5 C4445,264.5 4760.0,264.5 4760.0,439.5\" fill=\"none\" stroke=\"currentColor\"/>\n",
              "    <text dy=\"1.25em\" style=\"font-size: 0.8em; letter-spacing: 1px\">\n",
              "        <textPath xlink:href=\"#arrow-b4dff2dd3d0e49aba02c7afe627a37a0-0-24\" class=\"displacy-label\" startOffset=\"50%\" side=\"left\" fill=\"currentColor\" text-anchor=\"middle\">attr</textPath>\n",
              "    </text>\n",
              "    <path class=\"displacy-arrowhead\" d=\"M4760.0,441.5 L4768.0,429.5 4752.0,429.5\" fill=\"currentColor\"/>\n",
              "</g>\n",
              "\n",
              "<g class=\"displacy-arrow\">\n",
              "    <path class=\"displacy-arc\" id=\"arrow-b4dff2dd3d0e49aba02c7afe627a37a0-0-25\" stroke-width=\"2px\" d=\"M4445,439.5 C4445,177.0 4940.0,177.0 4940.0,439.5\" fill=\"none\" stroke=\"currentColor\"/>\n",
              "    <text dy=\"1.25em\" style=\"font-size: 0.8em; letter-spacing: 1px\">\n",
              "        <textPath xlink:href=\"#arrow-b4dff2dd3d0e49aba02c7afe627a37a0-0-25\" class=\"displacy-label\" startOffset=\"50%\" side=\"left\" fill=\"currentColor\" text-anchor=\"middle\">cc</textPath>\n",
              "    </text>\n",
              "    <path class=\"displacy-arrowhead\" d=\"M4940.0,441.5 L4948.0,429.5 4932.0,429.5\" fill=\"currentColor\"/>\n",
              "</g>\n",
              "\n",
              "<g class=\"displacy-arrow\">\n",
              "    <path class=\"displacy-arc\" id=\"arrow-b4dff2dd3d0e49aba02c7afe627a37a0-0-26\" stroke-width=\"2px\" d=\"M4445,439.5 C4445,89.5 5120.0,89.5 5120.0,439.5\" fill=\"none\" stroke=\"currentColor\"/>\n",
              "    <text dy=\"1.25em\" style=\"font-size: 0.8em; letter-spacing: 1px\">\n",
              "        <textPath xlink:href=\"#arrow-b4dff2dd3d0e49aba02c7afe627a37a0-0-26\" class=\"displacy-label\" startOffset=\"50%\" side=\"left\" fill=\"currentColor\" text-anchor=\"middle\">conj</textPath>\n",
              "    </text>\n",
              "    <path class=\"displacy-arrowhead\" d=\"M5120.0,441.5 L5128.0,429.5 5112.0,429.5\" fill=\"currentColor\"/>\n",
              "</g>\n",
              "\n",
              "<g class=\"displacy-arrow\">\n",
              "    <path class=\"displacy-arc\" id=\"arrow-b4dff2dd3d0e49aba02c7afe627a37a0-0-27\" stroke-width=\"2px\" d=\"M5320,439.5 C5320,352.0 5455.0,352.0 5455.0,439.5\" fill=\"none\" stroke=\"currentColor\"/>\n",
              "    <text dy=\"1.25em\" style=\"font-size: 0.8em; letter-spacing: 1px\">\n",
              "        <textPath xlink:href=\"#arrow-b4dff2dd3d0e49aba02c7afe627a37a0-0-27\" class=\"displacy-label\" startOffset=\"50%\" side=\"left\" fill=\"currentColor\" text-anchor=\"middle\">aux</textPath>\n",
              "    </text>\n",
              "    <path class=\"displacy-arrowhead\" d=\"M5320,441.5 L5312,429.5 5328,429.5\" fill=\"currentColor\"/>\n",
              "</g>\n",
              "\n",
              "<g class=\"displacy-arrow\">\n",
              "    <path class=\"displacy-arc\" id=\"arrow-b4dff2dd3d0e49aba02c7afe627a37a0-0-28\" stroke-width=\"2px\" d=\"M5145,439.5 C5145,264.5 5460.0,264.5 5460.0,439.5\" fill=\"none\" stroke=\"currentColor\"/>\n",
              "    <text dy=\"1.25em\" style=\"font-size: 0.8em; letter-spacing: 1px\">\n",
              "        <textPath xlink:href=\"#arrow-b4dff2dd3d0e49aba02c7afe627a37a0-0-28\" class=\"displacy-label\" startOffset=\"50%\" side=\"left\" fill=\"currentColor\" text-anchor=\"middle\">xcomp</textPath>\n",
              "    </text>\n",
              "    <path class=\"displacy-arrowhead\" d=\"M5460.0,441.5 L5468.0,429.5 5452.0,429.5\" fill=\"currentColor\"/>\n",
              "</g>\n",
              "\n",
              "<g class=\"displacy-arrow\">\n",
              "    <path class=\"displacy-arc\" id=\"arrow-b4dff2dd3d0e49aba02c7afe627a37a0-0-29\" stroke-width=\"2px\" d=\"M5670,439.5 C5670,264.5 6160.0,264.5 6160.0,439.5\" fill=\"none\" stroke=\"currentColor\"/>\n",
              "    <text dy=\"1.25em\" style=\"font-size: 0.8em; letter-spacing: 1px\">\n",
              "        <textPath xlink:href=\"#arrow-b4dff2dd3d0e49aba02c7afe627a37a0-0-29\" class=\"displacy-label\" startOffset=\"50%\" side=\"left\" fill=\"currentColor\" text-anchor=\"middle\">compound</textPath>\n",
              "    </text>\n",
              "    <path class=\"displacy-arrowhead\" d=\"M5670,441.5 L5662,429.5 5678,429.5\" fill=\"currentColor\"/>\n",
              "</g>\n",
              "\n",
              "<g class=\"displacy-arrow\">\n",
              "    <path class=\"displacy-arc\" id=\"arrow-b4dff2dd3d0e49aba02c7afe627a37a0-0-30\" stroke-width=\"2px\" d=\"M5670,439.5 C5670,352.0 5805.0,352.0 5805.0,439.5\" fill=\"none\" stroke=\"currentColor\"/>\n",
              "    <text dy=\"1.25em\" style=\"font-size: 0.8em; letter-spacing: 1px\">\n",
              "        <textPath xlink:href=\"#arrow-b4dff2dd3d0e49aba02c7afe627a37a0-0-30\" class=\"displacy-label\" startOffset=\"50%\" side=\"left\" fill=\"currentColor\" text-anchor=\"middle\">dep</textPath>\n",
              "    </text>\n",
              "    <path class=\"displacy-arrowhead\" d=\"M5805.0,441.5 L5813.0,429.5 5797.0,429.5\" fill=\"currentColor\"/>\n",
              "</g>\n",
              "\n",
              "<g class=\"displacy-arrow\">\n",
              "    <path class=\"displacy-arc\" id=\"arrow-b4dff2dd3d0e49aba02c7afe627a37a0-0-31\" stroke-width=\"2px\" d=\"M6020,439.5 C6020,352.0 6155.0,352.0 6155.0,439.5\" fill=\"none\" stroke=\"currentColor\"/>\n",
              "    <text dy=\"1.25em\" style=\"font-size: 0.8em; letter-spacing: 1px\">\n",
              "        <textPath xlink:href=\"#arrow-b4dff2dd3d0e49aba02c7afe627a37a0-0-31\" class=\"displacy-label\" startOffset=\"50%\" side=\"left\" fill=\"currentColor\" text-anchor=\"middle\">compound</textPath>\n",
              "    </text>\n",
              "    <path class=\"displacy-arrowhead\" d=\"M6020,441.5 L6012,429.5 6028,429.5\" fill=\"currentColor\"/>\n",
              "</g>\n",
              "\n",
              "<g class=\"displacy-arrow\">\n",
              "    <path class=\"displacy-arc\" id=\"arrow-b4dff2dd3d0e49aba02c7afe627a37a0-0-32\" stroke-width=\"2px\" d=\"M6195,439.5 C6195,352.0 6330.0,352.0 6330.0,439.5\" fill=\"none\" stroke=\"currentColor\"/>\n",
              "    <text dy=\"1.25em\" style=\"font-size: 0.8em; letter-spacing: 1px\">\n",
              "        <textPath xlink:href=\"#arrow-b4dff2dd3d0e49aba02c7afe627a37a0-0-32\" class=\"displacy-label\" startOffset=\"50%\" side=\"left\" fill=\"currentColor\" text-anchor=\"middle\">nsubj</textPath>\n",
              "    </text>\n",
              "    <path class=\"displacy-arrowhead\" d=\"M6195,441.5 L6187,429.5 6203,429.5\" fill=\"currentColor\"/>\n",
              "</g>\n",
              "\n",
              "<g class=\"displacy-arrow\">\n",
              "    <path class=\"displacy-arc\" id=\"arrow-b4dff2dd3d0e49aba02c7afe627a37a0-0-33\" stroke-width=\"2px\" d=\"M4445,439.5 C4445,2.0 6350.0,2.0 6350.0,439.5\" fill=\"none\" stroke=\"currentColor\"/>\n",
              "    <text dy=\"1.25em\" style=\"font-size: 0.8em; letter-spacing: 1px\">\n",
              "        <textPath xlink:href=\"#arrow-b4dff2dd3d0e49aba02c7afe627a37a0-0-33\" class=\"displacy-label\" startOffset=\"50%\" side=\"left\" fill=\"currentColor\" text-anchor=\"middle\">conj</textPath>\n",
              "    </text>\n",
              "    <path class=\"displacy-arrowhead\" d=\"M6350.0,441.5 L6358.0,429.5 6342.0,429.5\" fill=\"currentColor\"/>\n",
              "</g>\n",
              "\n",
              "<g class=\"displacy-arrow\">\n",
              "    <path class=\"displacy-arc\" id=\"arrow-b4dff2dd3d0e49aba02c7afe627a37a0-0-34\" stroke-width=\"2px\" d=\"M6545,439.5 C6545,352.0 6680.0,352.0 6680.0,439.5\" fill=\"none\" stroke=\"currentColor\"/>\n",
              "    <text dy=\"1.25em\" style=\"font-size: 0.8em; letter-spacing: 1px\">\n",
              "        <textPath xlink:href=\"#arrow-b4dff2dd3d0e49aba02c7afe627a37a0-0-34\" class=\"displacy-label\" startOffset=\"50%\" side=\"left\" fill=\"currentColor\" text-anchor=\"middle\">aux</textPath>\n",
              "    </text>\n",
              "    <path class=\"displacy-arrowhead\" d=\"M6545,441.5 L6537,429.5 6553,429.5\" fill=\"currentColor\"/>\n",
              "</g>\n",
              "\n",
              "<g class=\"displacy-arrow\">\n",
              "    <path class=\"displacy-arc\" id=\"arrow-b4dff2dd3d0e49aba02c7afe627a37a0-0-35\" stroke-width=\"2px\" d=\"M6370,439.5 C6370,264.5 6685.0,264.5 6685.0,439.5\" fill=\"none\" stroke=\"currentColor\"/>\n",
              "    <text dy=\"1.25em\" style=\"font-size: 0.8em; letter-spacing: 1px\">\n",
              "        <textPath xlink:href=\"#arrow-b4dff2dd3d0e49aba02c7afe627a37a0-0-35\" class=\"displacy-label\" startOffset=\"50%\" side=\"left\" fill=\"currentColor\" text-anchor=\"middle\">xcomp</textPath>\n",
              "    </text>\n",
              "    <path class=\"displacy-arrowhead\" d=\"M6685.0,441.5 L6693.0,429.5 6677.0,429.5\" fill=\"currentColor\"/>\n",
              "</g>\n",
              "\n",
              "<g class=\"displacy-arrow\">\n",
              "    <path class=\"displacy-arc\" id=\"arrow-b4dff2dd3d0e49aba02c7afe627a37a0-0-36\" stroke-width=\"2px\" d=\"M6720,439.5 C6720,352.0 6855.0,352.0 6855.0,439.5\" fill=\"none\" stroke=\"currentColor\"/>\n",
              "    <text dy=\"1.25em\" style=\"font-size: 0.8em; letter-spacing: 1px\">\n",
              "        <textPath xlink:href=\"#arrow-b4dff2dd3d0e49aba02c7afe627a37a0-0-36\" class=\"displacy-label\" startOffset=\"50%\" side=\"left\" fill=\"currentColor\" text-anchor=\"middle\">prep</textPath>\n",
              "    </text>\n",
              "    <path class=\"displacy-arrowhead\" d=\"M6855.0,441.5 L6863.0,429.5 6847.0,429.5\" fill=\"currentColor\"/>\n",
              "</g>\n",
              "\n",
              "<g class=\"displacy-arrow\">\n",
              "    <path class=\"displacy-arc\" id=\"arrow-b4dff2dd3d0e49aba02c7afe627a37a0-0-37\" stroke-width=\"2px\" d=\"M6895,439.5 C6895,352.0 7030.0,352.0 7030.0,439.5\" fill=\"none\" stroke=\"currentColor\"/>\n",
              "    <text dy=\"1.25em\" style=\"font-size: 0.8em; letter-spacing: 1px\">\n",
              "        <textPath xlink:href=\"#arrow-b4dff2dd3d0e49aba02c7afe627a37a0-0-37\" class=\"displacy-label\" startOffset=\"50%\" side=\"left\" fill=\"currentColor\" text-anchor=\"middle\">pobj</textPath>\n",
              "    </text>\n",
              "    <path class=\"displacy-arrowhead\" d=\"M7030.0,441.5 L7038.0,429.5 7022.0,429.5\" fill=\"currentColor\"/>\n",
              "</g>\n",
              "\n",
              "<g class=\"displacy-arrow\">\n",
              "    <path class=\"displacy-arc\" id=\"arrow-b4dff2dd3d0e49aba02c7afe627a37a0-0-38\" stroke-width=\"2px\" d=\"M6720,439.5 C6720,264.5 7210.0,264.5 7210.0,439.5\" fill=\"none\" stroke=\"currentColor\"/>\n",
              "    <text dy=\"1.25em\" style=\"font-size: 0.8em; letter-spacing: 1px\">\n",
              "        <textPath xlink:href=\"#arrow-b4dff2dd3d0e49aba02c7afe627a37a0-0-38\" class=\"displacy-label\" startOffset=\"50%\" side=\"left\" fill=\"currentColor\" text-anchor=\"middle\">prep</textPath>\n",
              "    </text>\n",
              "    <path class=\"displacy-arrowhead\" d=\"M7210.0,441.5 L7218.0,429.5 7202.0,429.5\" fill=\"currentColor\"/>\n",
              "</g>\n",
              "\n",
              "<g class=\"displacy-arrow\">\n",
              "    <path class=\"displacy-arc\" id=\"arrow-b4dff2dd3d0e49aba02c7afe627a37a0-0-39\" stroke-width=\"2px\" d=\"M7245,439.5 C7245,352.0 7380.0,352.0 7380.0,439.5\" fill=\"none\" stroke=\"currentColor\"/>\n",
              "    <text dy=\"1.25em\" style=\"font-size: 0.8em; letter-spacing: 1px\">\n",
              "        <textPath xlink:href=\"#arrow-b4dff2dd3d0e49aba02c7afe627a37a0-0-39\" class=\"displacy-label\" startOffset=\"50%\" side=\"left\" fill=\"currentColor\" text-anchor=\"middle\">pobj</textPath>\n",
              "    </text>\n",
              "    <path class=\"displacy-arrowhead\" d=\"M7380.0,441.5 L7388.0,429.5 7372.0,429.5\" fill=\"currentColor\"/>\n",
              "</g>\n",
              "</svg>"
            ]
          },
          "metadata": {}
        }
      ]
    },
    {
      "cell_type": "code",
      "source": [
        "def anonymizer():\n",
        "  tokens=[]\n",
        "  count=0\n",
        "  result=[]\n",
        "  for tokenz in doc_nlp:\n",
        "    #print(ent.text, ent.start_char, ent.end_char, ent.label_)\n",
        "    # print(token.text,token.tag_ ,token.ent_type_)\n",
        "\n",
        "\n",
        "      if tokenz.ent_type_==\"PERSON\":\n",
        "        result.append((\"*\"*len(tokenz.text)))\n",
        "        count=count+1\n",
        "      else:\n",
        "      #tokens.append(\" \"+tokenz.text+\" \")\n",
        "        result.append(\"\"+tokenz.text+\"\")\n",
        "  # result.append(\"\".join(words))\n",
        "  final_result=' '.join(result)\n",
        "# print(''.join(tokens))\n",
        "  print(final_result)\n",
        "  print('\\n ANONYMIZED WORDS: ',count)\n",
        "  return str(final_result)\n",
        "\n"
      ],
      "metadata": {
        "id": "jZAfNoXgyc6N"
      },
      "execution_count": null,
      "outputs": []
    },
    {
      "cell_type": "code",
      "source": [
        "res=anonymizer()\n",
        "type(res)"
      ],
      "metadata": {
        "colab": {
          "base_uri": "https://localhost:8080/"
        },
        "id": "7fSilye3O0En",
        "outputId": "a426eebc-239b-4012-de28-dad7501609ae"
      },
      "execution_count": null,
      "outputs": [
        {
          "output_type": "stream",
          "name": "stdout",
          "text": [
            "Hello everyone my name is ******** *** . \n",
            " and I am a master student in Germany . \n",
            " I work at Foxbase GmbH ! \n",
            " *** **** is my friend and likes to cook noodles \n",
            " ****** ******* want to travel to Australia in Winters .\n",
            "\n",
            " ANONYMIZED WORDS:  6\n"
          ]
        },
        {
          "output_type": "execute_result",
          "data": {
            "text/plain": [
              "str"
            ]
          },
          "metadata": {},
          "execution_count": 9
        }
      ]
    },
    {
      "cell_type": "code",
      "source": [
        "for tokenz in doc:\n",
        "  print(tokenz)\n",
        "    # tokenz=tokenz.rstrip()\n",
        "    #print(ent.text, ent.start_char, ent.end_char, ent.label_)\n",
        "    # print(tokenz.text,tokenz.tag_ ,tokenz.ent_type_)"
      ],
      "metadata": {
        "colab": {
          "base_uri": "https://localhost:8080/"
        },
        "id": "XgJMafBNyCuz",
        "outputId": "e5b26c0f-301c-4499-a31d-107bbf75198c"
      },
      "execution_count": null,
      "outputs": [
        {
          "output_type": "stream",
          "name": "stdout",
          "text": [
            "Hello\n",
            "everyone\n",
            "my\n",
            "name\n",
            "is\n",
            "Mubashir\n",
            "Ali\n",
            ".\n",
            "\n",
            "\n",
            "and\n",
            "my\n",
            "email\n",
            "address\n",
            "is\n",
            "ali.mubashir2993@yahoo.com\n",
            "\n",
            "\n",
            "Thomas\n",
            "Gill\n",
            "works\n",
            "at\n",
            "Foxbase\n",
            "GmbH\n",
            "!\n",
            "\n",
            "\n",
            "I\n",
            "work\n",
            "at\n",
            "foxbase\n",
            "gmbh\n",
            "!\n",
            "\n",
            "\n",
            "Alfred\n",
            "Winters\n",
            "want\n",
            "to\n",
            "travel\n",
            "to\n",
            "Austria\n",
            "in\n",
            "Winters\n"
          ]
        }
      ]
    },
    {
      "cell_type": "code",
      "source": [
        "with open(\"out.txt\", \"w\") as output:\n",
        "  output.write((res))"
      ],
      "metadata": {
        "id": "HsRORSEfynz0"
      },
      "execution_count": null,
      "outputs": []
    },
    {
      "cell_type": "code",
      "source": [],
      "metadata": {
        "id": "BKQR6mgusX7f"
      },
      "execution_count": null,
      "outputs": []
    },
    {
      "cell_type": "code",
      "source": [],
      "metadata": {
        "id": "4-1unJoCsYkK"
      },
      "execution_count": null,
      "outputs": []
    },
    {
      "cell_type": "code",
      "source": [
        "import re\n",
        "text=[]\n",
        "result=[]\n",
        "count=0\n",
        "with open(\"input.txt\", \"r\") as text_file:\n",
        "\n",
        "  doc=text_file.read()\n",
        "lines=doc.split(\"\\n\")\n",
        "print(lines)\n",
        "\n",
        "names=['jonas','schmidt','max','muller','alfred','winters','arthur','robert','alice','simon','tim','russo','mario','marino']\n",
        "for token in lines:\n",
        "  #print(token)\n",
        "  #words = re.findall(r\"[^,.:;@\\n?\\s+!_\\\\#=$/%^&*\\r ']+|[,.:;@?\\s+!_\\\\#$=/%^&*']\", token)\n",
        "  words = re.findall(r\"[^,.:;@\\n?\\s+*\\r ']+|[,. :;]\", token)\n",
        "  print(words)\n",
        "  length=len(words)\n",
        "  for i in range(length):\n",
        "\n",
        "    if words[i].lower() in names:\n",
        "      words[i]='*'*len(words[i])\n",
        "      count=count+1\n",
        "  if token== lines[len(lines)-1]:\n",
        "    result.append((\"\".join(words)))\n",
        "  else:\n",
        "    result.append((\"\".join(words))[:-1])\n",
        "\n",
        "res=\"\\n\".join(result)\n",
        "print(res)\n",
        "\n",
        "  \n",
        "#   if token.pos_=='PROPN':\n",
        "#     length=(len(token.text))\n",
        "#     text.append('*'*length)\n",
        "#   else:\n",
        "#     text.append(token.text)\n",
        "\n",
        "\n",
        "# print(text)\n",
        "    #print(token.text, token.pos_, token.dep_)"
      ],
      "metadata": {
        "colab": {
          "base_uri": "https://localhost:8080/"
        },
        "id": "Deyx62UK3VEA",
        "outputId": "df06261a-6e53-4e8d-c600-b4f532f5639b"
      },
      "execution_count": null,
      "outputs": [
        {
          "output_type": "stream",
          "name": "stdout",
          "text": [
            "['Hello everyone my name is Mubashir Ali.', 'and I am a master student in Germany.', 'I work at Foxbase GmbH!', 'Tim Cook is my freind and likes to cook noodles', 'Alfred Winters want to travel to Austria in Winters.']\n",
            "['Hello ', 'everyone ', 'my ', 'name ', 'is ', 'Mubashir ', 'Ali.']\n",
            "['and ', 'I ', 'am ', 'a ', 'master ', 'student ', 'in ', 'Germany.']\n",
            "['I ', 'work ', 'at ', 'Foxbase ']\n",
            "['Tim ', 'Cook ', 'is ', 'my ', 'freind ', 'and ', 'likes ', 'to ', 'cook ']\n",
            "['Alfred ', 'Winters ', 'want ', 'to ', 'travel ', 'to ', 'Austria ', 'in ', 'Winters.']\n",
            "Hello everyone my name is Mubashir Ali\n",
            "and I am a master student in Germany\n",
            "I work at Foxbase\n",
            "Tim Cook is my freind and likes to cook\n",
            "Alfred Winters want to travel to Austria in Winters.\n"
          ]
        }
      ]
    },
    {
      "cell_type": "code",
      "source": [
        "with open(\"out.txt\", \"w\") as output:\n",
        "  output.write((res))"
      ],
      "metadata": {
        "id": "3iSEBOH74yCZ"
      },
      "execution_count": null,
      "outputs": []
    },
    {
      "cell_type": "code",
      "source": [
        "names=['jonas','schmidt','max','muller','alfred','winters','arthur','robert','alice','simon','tim','russo','mario','marino']\n",
        "word= 'Tim'\n",
        "if word.lower() in names:\n",
        "  print('true')\n",
        "else:\n",
        "  print('false')"
      ],
      "metadata": {
        "colab": {
          "base_uri": "https://localhost:8080/"
        },
        "id": "PPx9a2zVLV-c",
        "outputId": "0dc6e26a-22d5-4378-8c07-f7b1e9a852c5"
      },
      "execution_count": null,
      "outputs": [
        {
          "output_type": "stream",
          "name": "stdout",
          "text": [
            "true\n"
          ]
        }
      ]
    },
    {
      "cell_type": "code",
      "source": [
        "!pip install deepspeech\n",
        "!curl -LO https://github.com/mozilla/DeepSpeech/releases/download/v0.9.3/deepspeech-0.9.3-models.pbmm\n",
        "!curl -LO https://github.com/mozilla/DeepSpeech/releases/download/v0.9.3/deepspeech-0.9.3-models.scorer\n",
        "!curl -LO https://github.com/mozilla/DeepSpeech/releases/download/v0.9.3/audio-0.9.3.tar.gz\n",
        "!tar xvf audio-0.9.3.tar.gz\n",
        "\n",
        "# print(type(b))"
      ],
      "metadata": {
        "id": "mwR_2g1y84qw",
        "colab": {
          "base_uri": "https://localhost:8080/"
        },
        "outputId": "e24c1a1f-1fb6-4f22-ba24-cd65260f2b7f"
      },
      "execution_count": null,
      "outputs": [
        {
          "output_type": "stream",
          "name": "stdout",
          "text": [
            "Looking in indexes: https://pypi.org/simple, https://us-python.pkg.dev/colab-wheels/public/simple/\n",
            "Requirement already satisfied: deepspeech in /usr/local/lib/python3.7/dist-packages (0.9.3)\n",
            "Requirement already satisfied: numpy>=1.14.5 in /usr/local/lib/python3.7/dist-packages (from deepspeech) (1.21.6)\n",
            "\u001b[33mWARNING: Running pip as the 'root' user can result in broken permissions and conflicting behaviour with the system package manager. It is recommended to use a virtual environment instead: https://pip.pypa.io/warnings/venv\u001b[0m\u001b[33m\n",
            "\u001b[0m  % Total    % Received % Xferd  Average Speed   Time    Time     Time  Current\n",
            "                                 Dload  Upload   Total   Spent    Left  Speed\n",
            "  0     0    0     0    0     0      0      0 --:--:-- --:--:-- --:--:--     0\n",
            "100  180M  100  180M    0     0  27.9M      0  0:00:06  0:00:06 --:--:-- 30.7M\n",
            "  % Total    % Received % Xferd  Average Speed   Time    Time     Time  Current\n",
            "                                 Dload  Upload   Total   Spent    Left  Speed\n",
            "  0     0    0     0    0     0      0      0 --:--:-- --:--:-- --:--:--     0\n",
            "100  909M  100  909M    0     0  14.8M      0  0:01:01  0:01:01 --:--:-- 8795k\n",
            "  % Total    % Received % Xferd  Average Speed   Time    Time     Time  Current\n",
            "                                 Dload  Upload   Total   Spent    Left  Speed\n",
            "  0     0    0     0    0     0      0      0 --:--:-- --:--:-- --:--:--     0\n",
            "100  194k  100  194k    0     0   375k      0 --:--:-- --:--:-- --:--:--  375k\n",
            "._audio\n",
            "audio/\n",
            "audio/._2830-3980-0043.wav\n",
            "audio/2830-3980-0043.wav\n",
            "audio/._Attribution.txt\n",
            "audio/Attribution.txt\n",
            "audio/._4507-16021-0012.wav\n",
            "audio/4507-16021-0012.wav\n",
            "audio/._8455-210777-0068.wav\n",
            "audio/8455-210777-0068.wav\n",
            "audio/._License.txt\n",
            "audio/License.txt\n"
          ]
        }
      ]
    },
    {
      "cell_type": "code",
      "source": [
        "# a=!deepspeech --model deepspeech-0.9.3-models.pbmm --scorer deepspeech-0.9.3-models.scorer --audio audio/4507-16021-0012.wav\n",
        "# print(a)\n",
        "!deepspeech --model deepspeech-0.9.3-models.pbmm --scorer deepspeech-0.9.3-models.scorer --audio audio/2830-3980-0043.wav\n",
        "# b=a[7]\n",
        "# with open(\"record_output.txt\", \"w\") as text_file:\n",
        "#     text_file.write(b)"
      ],
      "metadata": {
        "id": "uV1N8Z1s8-ET",
        "colab": {
          "base_uri": "https://localhost:8080/"
        },
        "outputId": "dbcf3182-741d-400e-ee99-de24ee336914"
      },
      "execution_count": null,
      "outputs": [
        {
          "output_type": "stream",
          "name": "stdout",
          "text": [
            "Loading model from file deepspeech-0.9.3-models.pbmm\n",
            "TensorFlow: v2.3.0-6-g23ad988\n",
            "DeepSpeech: v0.9.3-0-gf2e9c85\n",
            "2022-09-09 20:22:30.240316: I tensorflow/core/platform/cpu_feature_guard.cc:142] This TensorFlow binary is optimized with oneAPI Deep Neural Network Library (oneDNN)to use the following CPU instructions in performance-critical operations:  AVX2 FMA\n",
            "To enable them in other operations, rebuild TensorFlow with the appropriate compiler flags.\n",
            "Loaded model in 0.0129s.\n",
            "Loading scorer from files deepspeech-0.9.3-models.scorer\n",
            "Loaded scorer in 0.000243s.\n",
            "Running inference.\n",
            "experience proves this\n",
            "Inference took 1.899s for 1.975s audio file.\n"
          ]
        }
      ]
    },
    {
      "cell_type": "code",
      "source": [
        "!ls -l /content/audio"
      ],
      "metadata": {
        "colab": {
          "base_uri": "https://localhost:8080/"
        },
        "id": "tHD3DHpF7BjY",
        "outputId": "cee14bf1-af0c-4022-9988-e071fb209b10"
      },
      "execution_count": null,
      "outputs": [
        {
          "output_type": "stream",
          "name": "stdout",
          "text": [
            "total 1384\n",
            "-rw-r--r-- 1  501 staff   63244 Nov 18  2017 2830-3980-0043.wav\n",
            "-rw-r--r-- 1  501 staff   87564 Nov 18  2017 4507-16021-0012.wav\n",
            "-rw-r--r-- 1  501 staff   82924 Nov 18  2017 8455-210777-0068.wav\n",
            "-rw-r--r-- 1  501 staff     340 May 14  2018 Attribution.txt\n",
            "-rw-r--r-- 1  501 staff   18652 May 12  2018 License.txt\n",
            "-rw-r--r-- 1 root root  1146924 Sep  9 20:23 record.wav\n"
          ]
        }
      ]
    },
    {
      "cell_type": "code",
      "source": [
        "!deepspeech --model deepspeech-0.9.3-models.pbmm --scorer deepspeech-0.9.3-models.scorer --audio !deepspeech --model deepspeech-0.9.3-models.pbmm --scorer deepspeech-0.9.3-models.scorer --audio /content/audio/record.wav"
      ],
      "metadata": {
        "colab": {
          "base_uri": "https://localhost:8080/"
        },
        "id": "U20jiDyC50c8",
        "outputId": "a9e9c7ac-5108-4af0-d1b4-026cf8be2751"
      },
      "execution_count": null,
      "outputs": [
        {
          "output_type": "stream",
          "name": "stdout",
          "text": [
            "Loading model from file deepspeech-0.9.3-models.pbmm\n",
            "TensorFlow: v2.3.0-6-g23ad988\n",
            "DeepSpeech: v0.9.3-0-gf2e9c85\n",
            "2022-09-09 20:28:26.761147: I tensorflow/core/platform/cpu_feature_guard.cc:142] This TensorFlow binary is optimized with oneAPI Deep Neural Network Library (oneDNN)to use the following CPU instructions in performance-critical operations:  AVX2 FMA\n",
            "To enable them in other operations, rebuild TensorFlow with the appropriate compiler flags.\n",
            "Loaded model in 0.0122s.\n",
            "Loading scorer from files deepspeech-0.9.3-models.scorer\n",
            "Loaded scorer in 0.00027s.\n",
            "Running inference.\n",
            "energetic antoinette\n",
            "Inference took 9.819s for 6.502s audio file.\n"
          ]
        }
      ]
    },
    {
      "cell_type": "code",
      "source": [
        "!chmod 755 /content/audio/Record.wav"
      ],
      "metadata": {
        "id": "vdZostYYC23_"
      },
      "execution_count": null,
      "outputs": []
    },
    {
      "cell_type": "code",
      "source": [
        "#!pip install gTTS"
      ],
      "metadata": {
        "colab": {
          "base_uri": "https://localhost:8080/"
        },
        "id": "AtVssmB6C3rr",
        "outputId": "b63d9124-8684-4816-eded-1e8f7a8c05f0"
      },
      "execution_count": null,
      "outputs": [
        {
          "output_type": "stream",
          "name": "stdout",
          "text": [
            "Looking in indexes: https://pypi.org/simple, https://us-python.pkg.dev/colab-wheels/public/simple/\n",
            "Collecting gTTS\n",
            "  Downloading gTTS-2.2.4-py3-none-any.whl (26 kB)\n",
            "Requirement already satisfied: six in /usr/local/lib/python3.7/dist-packages (from gTTS) (1.15.0)\n",
            "Requirement already satisfied: requests in /usr/local/lib/python3.7/dist-packages (from gTTS) (2.23.0)\n",
            "Requirement already satisfied: click in /usr/local/lib/python3.7/dist-packages (from gTTS) (7.1.2)\n",
            "Requirement already satisfied: certifi>=2017.4.17 in /usr/local/lib/python3.7/dist-packages (from requests->gTTS) (2022.6.15)\n",
            "Requirement already satisfied: chardet<4,>=3.0.2 in /usr/local/lib/python3.7/dist-packages (from requests->gTTS) (3.0.4)\n",
            "Requirement already satisfied: idna<3,>=2.5 in /usr/local/lib/python3.7/dist-packages (from requests->gTTS) (2.10)\n",
            "Requirement already satisfied: urllib3!=1.25.0,!=1.25.1,<1.26,>=1.21.1 in /usr/local/lib/python3.7/dist-packages (from requests->gTTS) (1.24.3)\n",
            "Installing collected packages: gTTS\n",
            "Successfully installed gTTS-2.2.4\n",
            "\u001b[33mWARNING: Running pip as the 'root' user can result in broken permissions and conflicting behaviour with the system package manager. It is recommended to use a virtual environment instead: https://pip.pypa.io/warnings/venv\u001b[0m\u001b[33m\n",
            "\u001b[0m"
          ]
        }
      ]
    },
    {
      "cell_type": "code",
      "source": [
        "from gtts import gTTS\n",
        "  \n",
        "# This module is imported so that we can \n",
        "# play the converted audio\n",
        "import os\n",
        "  \n",
        "# The text that you want to convert to audio\n",
        "# mytext = 'Welcome to geeksforgeeks!'\n",
        "with open(\"output.txt\", \"r\") as text_file:\n",
        "\n",
        "  mytext=text_file.read()\n",
        "  \n",
        "# Language in which you want to convert\n",
        "language = 'en'\n",
        "  \n",
        "# Passing the text and language to the engine, \n",
        "# here we have marked slow=False. Which tells \n",
        "# the module that the converted audio should \n",
        "# have a high speed\n",
        "myobj = gTTS(text=mytext, lang=language, slow=False)\n",
        "  \n",
        "# Saving the converted audio in a mp3 file named\n",
        "# welcome \n",
        "myobj.save(\"welcome.mp3\")\n",
        "  \n",
        "\n",
        "# Playing the converted file\n",
        "# os.system(\"mpg321 welcome.mp3\")"
      ],
      "metadata": {
        "id": "bDmN17i7C7Vq"
      },
      "execution_count": null,
      "outputs": []
    },
    {
      "cell_type": "code",
      "source": [
        "import IPython.display as ipd\n",
        "ipd.Audio(filename='/content/welcome.mp3')"
      ],
      "metadata": {
        "id": "5eBbUKFUHMWL",
        "colab": {
          "base_uri": "https://localhost:8080/",
          "height": 76
        },
        "outputId": "17ae9be5-31a7-4387-aa9c-d803b07d51ba"
      },
      "execution_count": null,
      "outputs": [
        {
          "output_type": "execute_result",
          "data": {
            "text/plain": [
              "<IPython.lib.display.Audio object>"
            ],
            "text/html": [
              "\n",
              "                <audio  controls=\"controls\" >\n",
              "                    <source src=\"data:audio/mpeg;base64,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\" type=\"audio/mpeg\" />\n",
              "                    Your browser does not support the audio element.\n",
              "                </audio>\n",
              "              "
            ]
          },
          "metadata": {},
          "execution_count": 7
        }
      ]
    },
    {
      "cell_type": "code",
      "source": [
        "sound_file = '/content/welcome.mp3'\n",
        "from IPython.display import Audio\n",
        "wn = Audio('/content/welcome.mp3', autoplay=True)\n",
        "display(wn)"
      ],
      "metadata": {
        "colab": {
          "base_uri": "https://localhost:8080/",
          "height": 76
        },
        "id": "J1Y8opglLBBc",
        "outputId": "160e6c72-2cc7-46f3-9494-1bd10297e77a"
      },
      "execution_count": null,
      "outputs": [
        {
          "output_type": "display_data",
          "data": {
            "text/plain": [
              "<IPython.lib.display.Audio object>"
            ],
            "text/html": [
              "\n",
              "                <audio  controls=\"controls\" autoplay=\"autoplay\">\n",
              "                    <source src=\"data:audio/mpeg;base64,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\" type=\"audio/mpeg\" />\n",
              "                    Your browser does not support the audio element.\n",
              "                </audio>\n",
              "              "
            ]
          },
          "metadata": {}
        }
      ]
    },
    {
      "cell_type": "code",
      "source": [],
      "metadata": {
        "id": "8jJLzsIaLl4i"
      },
      "execution_count": null,
      "outputs": []
    }
  ]
}